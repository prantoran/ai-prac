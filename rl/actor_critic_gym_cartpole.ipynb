{
  "nbformat": 4,
  "nbformat_minor": 0,
  "metadata": {
    "colab": {
      "provenance": [],
      "authorship_tag": "ABX9TyOyioKaHIfeoRaIthNI0Cm7",
      "include_colab_link": true
    },
    "kernelspec": {
      "name": "python3",
      "display_name": "Python 3"
    },
    "language_info": {
      "name": "python"
    }
  },
  "cells": [
    {
      "cell_type": "markdown",
      "metadata": {
        "id": "view-in-github",
        "colab_type": "text"
      },
      "source": [
        "<a href=\"https://colab.research.google.com/github/prantoran/ai-prac/blob/master/rl/actor_critic_gym_cartpole.ipynb\" target=\"_parent\"><img src=\"https://colab.research.google.com/assets/colab-badge.svg\" alt=\"Open In Colab\"/></a>"
      ]
    },
    {
      "cell_type": "code",
      "execution_count": 1,
      "metadata": {
        "id": "rCKIfeiGCJU-"
      },
      "outputs": [],
      "source": [
        "import gymnasium as gym\n",
        "import numpy as np\n",
        "import torch\n",
        "import torch.nn as nn\n",
        "import torch.optim as optim\n"
      ]
    },
    {
      "cell_type": "code",
      "source": [
        "# Define the actor-critic network\n",
        "class ActorCritic(nn.Module):\n",
        "    def __init__(self, state_dim, action_dim):\n",
        "        super(ActorCritic, self).__init__()\n",
        "        self.fc1 = nn.Linear(state_dim, 64)\n",
        "        self.fc2 = nn.Linear(64, 64)\n",
        "        self.fc_pi = nn.Linear(64, action_dim)\n",
        "        self.fc_v = nn.Linear(64, 1)\n",
        "\n",
        "    def forward(self, state):\n",
        "        x = torch.relu(self.fc1(state))\n",
        "        x = torch.relu(self.fc2(x))\n",
        "        pi = torch.softmax(self.fc_pi(x), dim=0)\n",
        "        v = self.fc_v(x)\n",
        "\n",
        "        return pi, v\n"
      ],
      "metadata": {
        "id": "nQSuyblcCTED"
      },
      "execution_count": 2,
      "outputs": []
    },
    {
      "cell_type": "code",
      "source": [
        "# Define the environment and other parameters\n",
        "env = gym.make('CartPole-v1')\n",
        "num_episodes = 1000\n",
        "discount_factor = 0.99\n",
        "\n",
        "learning_rate = 0.001\n",
        "\n",
        "# Initialize the ActorCritic network\n",
        "agent = ActorCritic(env.observation_space.shape[0], env.action_space.n)\n",
        "\n",
        "# Define the optimizer\n",
        "optimizer = optim.Adam(agent.parameters(), lr=learning_rate)\n"
      ],
      "metadata": {
        "id": "dOYkaIliCo9R"
      },
      "execution_count": 3,
      "outputs": []
    },
    {
      "cell_type": "code",
      "source": [
        "env"
      ],
      "metadata": {
        "colab": {
          "base_uri": "https://localhost:8080/"
        },
        "id": "CkVpOQE8C0hz",
        "outputId": "816cd2cc-0621-48eb-96da-11061cbd12a3"
      },
      "execution_count": 4,
      "outputs": [
        {
          "output_type": "execute_result",
          "data": {
            "text/plain": [
              "<TimeLimit<OrderEnforcing<PassiveEnvChecker<CartPoleEnv<CartPole-v1>>>>>"
            ]
          },
          "metadata": {},
          "execution_count": 4
        }
      ]
    },
    {
      "cell_type": "code",
      "source": [
        "type(env)"
      ],
      "metadata": {
        "colab": {
          "base_uri": "https://localhost:8080/",
          "height": 187
        },
        "id": "3r7YdEHOC3BE",
        "outputId": "6adbc6a6-6a74-4691-e0db-a9fb6477e6ab"
      },
      "execution_count": 5,
      "outputs": [
        {
          "output_type": "execute_result",
          "data": {
            "text/plain": [
              "gymnasium.wrappers.common.TimeLimit"
            ],
            "text/html": [
              "<div style=\"max-width:800px; border: 1px solid var(--colab-border-color);\"><style>\n",
              "      pre.function-repr-contents {\n",
              "        overflow-x: auto;\n",
              "        padding: 8px 12px;\n",
              "        max-height: 500px;\n",
              "      }\n",
              "\n",
              "      pre.function-repr-contents.function-repr-contents-collapsed {\n",
              "        cursor: pointer;\n",
              "        max-height: 100px;\n",
              "      }\n",
              "    </style>\n",
              "    <pre style=\"white-space: initial; background:\n",
              "         var(--colab-secondary-surface-color); padding: 8px 12px;\n",
              "         border-bottom: 1px solid var(--colab-border-color);\"><b>gymnasium.wrappers.common.TimeLimit</b><br/>def __init__(env: gym.Env, max_episode_steps: int)</pre><pre class=\"function-repr-contents function-repr-contents-collapsed\" style=\"\"><a class=\"filepath\" style=\"display:none\" href=\"#\">/usr/local/lib/python3.12/dist-packages/gymnasium/wrappers/common.py</a>Limits the number of steps for an environment through truncating the environment if a maximum number of timesteps is exceeded.\n",
              "\n",
              "If a truncation is not defined inside the environment itself, this is the only place that the truncation signal is issued.\n",
              "Critically, this is different from the `terminated` signal that originates from the underlying environment as part of the MDP.\n",
              "No vector wrapper exists.\n",
              "\n",
              "Example using the TimeLimit wrapper:\n",
              "    &gt;&gt;&gt; from gymnasium.wrappers import TimeLimit\n",
              "    &gt;&gt;&gt; from gymnasium.envs.classic_control import CartPoleEnv\n",
              "\n",
              "    &gt;&gt;&gt; spec = gym.spec(&quot;CartPole-v1&quot;)\n",
              "    &gt;&gt;&gt; spec.max_episode_steps\n",
              "    500\n",
              "    &gt;&gt;&gt; env = gym.make(&quot;CartPole-v1&quot;)\n",
              "    &gt;&gt;&gt; env  # TimeLimit is included within the environment stack\n",
              "    &lt;TimeLimit&lt;OrderEnforcing&lt;PassiveEnvChecker&lt;CartPoleEnv&lt;CartPole-v1&gt;&gt;&gt;&gt;&gt;\n",
              "    &gt;&gt;&gt; env.spec  # doctest: +ELLIPSIS\n",
              "    EnvSpec(id=&#x27;CartPole-v1&#x27;, ..., max_episode_steps=500, ...)\n",
              "    &gt;&gt;&gt; env = gym.make(&quot;CartPole-v1&quot;, max_episode_steps=3)\n",
              "    &gt;&gt;&gt; env.spec  # doctest: +ELLIPSIS\n",
              "    EnvSpec(id=&#x27;CartPole-v1&#x27;, ..., max_episode_steps=3, ...)\n",
              "    &gt;&gt;&gt; env = TimeLimit(CartPoleEnv(), max_episode_steps=10)\n",
              "    &gt;&gt;&gt; env\n",
              "    &lt;TimeLimit&lt;CartPoleEnv instance&gt;&gt;\n",
              "\n",
              "Example of `TimeLimit` determining the episode step\n",
              "    &gt;&gt;&gt; env = gym.make(&quot;CartPole-v1&quot;, max_episode_steps=3)\n",
              "    &gt;&gt;&gt; _ = env.reset(seed=123)\n",
              "    &gt;&gt;&gt; _ = env.action_space.seed(123)\n",
              "    &gt;&gt;&gt; _, _, terminated, truncated, _ = env.step(env.action_space.sample())\n",
              "    &gt;&gt;&gt; terminated, truncated\n",
              "    (False, False)\n",
              "    &gt;&gt;&gt; _, _, terminated, truncated, _ = env.step(env.action_space.sample())\n",
              "    &gt;&gt;&gt; terminated, truncated\n",
              "    (False, False)\n",
              "    &gt;&gt;&gt; _, _, terminated, truncated, _ = env.step(env.action_space.sample())\n",
              "    &gt;&gt;&gt; terminated, truncated\n",
              "    (False, True)\n",
              "\n",
              "Change logs:\n",
              " * v0.10.6 - Initially added\n",
              " * v0.25.0 - With the step API update, the termination and truncation signal is returned separately.</pre>\n",
              "      <script>\n",
              "      if (google.colab.kernel.accessAllowed && google.colab.files && google.colab.files.view) {\n",
              "        for (const element of document.querySelectorAll('.filepath')) {\n",
              "          element.style.display = 'block'\n",
              "          element.onclick = (event) => {\n",
              "            event.preventDefault();\n",
              "            event.stopPropagation();\n",
              "            google.colab.files.view(element.textContent, 43);\n",
              "          };\n",
              "        }\n",
              "      }\n",
              "      for (const element of document.querySelectorAll('.function-repr-contents')) {\n",
              "        element.onclick = (event) => {\n",
              "          event.preventDefault();\n",
              "          event.stopPropagation();\n",
              "          element.classList.toggle('function-repr-contents-collapsed');\n",
              "        };\n",
              "      }\n",
              "      </script>\n",
              "      </div>"
            ]
          },
          "metadata": {},
          "execution_count": 5
        }
      ]
    },
    {
      "cell_type": "code",
      "source": [
        "env.observation_space"
      ],
      "metadata": {
        "colab": {
          "base_uri": "https://localhost:8080/"
        },
        "id": "BHnB0YecC5uJ",
        "outputId": "5e31faa1-4e32-4d97-fb8f-248ac9f0b502"
      },
      "execution_count": 6,
      "outputs": [
        {
          "output_type": "execute_result",
          "data": {
            "text/plain": [
              "Box([-4.8               -inf -0.41887903        -inf], [4.8               inf 0.41887903        inf], (4,), float32)"
            ]
          },
          "metadata": {},
          "execution_count": 6
        }
      ]
    },
    {
      "cell_type": "code",
      "source": [
        "type(env.observation_space)"
      ],
      "metadata": {
        "colab": {
          "base_uri": "https://localhost:8080/",
          "height": 222
        },
        "id": "P9Tv2PpDDRUg",
        "outputId": "eafcf547-8738-4a48-e316-28f83b5c1b8e"
      },
      "execution_count": 8,
      "outputs": [
        {
          "output_type": "execute_result",
          "data": {
            "text/plain": [
              "gymnasium.spaces.box.Box"
            ],
            "text/html": [
              "<div style=\"max-width:800px; border: 1px solid var(--colab-border-color);\"><style>\n",
              "      pre.function-repr-contents {\n",
              "        overflow-x: auto;\n",
              "        padding: 8px 12px;\n",
              "        max-height: 500px;\n",
              "      }\n",
              "\n",
              "      pre.function-repr-contents.function-repr-contents-collapsed {\n",
              "        cursor: pointer;\n",
              "        max-height: 100px;\n",
              "      }\n",
              "    </style>\n",
              "    <pre style=\"white-space: initial; background:\n",
              "         var(--colab-secondary-surface-color); padding: 8px 12px;\n",
              "         border-bottom: 1px solid var(--colab-border-color);\"><b>gymnasium.spaces.box.Box</b><br/>def __init__(low: SupportsFloat | NDArray[Any], high: SupportsFloat | NDArray[Any], shape: Sequence[int] | None=None, dtype: type[np.floating[Any]] | type[np.integer[Any]]=np.float32, seed: int | np.random.Generator | None=None)</pre><pre class=\"function-repr-contents function-repr-contents-collapsed\" style=\"\"><a class=\"filepath\" style=\"display:none\" href=\"#\">/usr/local/lib/python3.12/dist-packages/gymnasium/spaces/box.py</a>A (possibly unbounded) box in :math:`\\mathbb{R}^n`.\n",
              "\n",
              "Specifically, a Box represents the Cartesian product of n closed intervals.\n",
              "Each interval has the form of one of :math:`[a, b]`, :math:`(-\\infty, b]`,\n",
              ":math:`[a, \\infty)`, or :math:`(-\\infty, \\infty)`.\n",
              "\n",
              "There are two common use cases:\n",
              "\n",
              "* Identical bound for each dimension::\n",
              "\n",
              "    &gt;&gt;&gt; Box(low=-1.0, high=2.0, shape=(3, 4), dtype=np.float32)\n",
              "    Box(-1.0, 2.0, (3, 4), float32)\n",
              "\n",
              "* Independent bound for each dimension::\n",
              "\n",
              "    &gt;&gt;&gt; Box(low=np.array([-1.0, -2.0]), high=np.array([2.0, 4.0]), dtype=np.float32)\n",
              "    Box([-1. -2.], [2. 4.], (2,), float32)</pre>\n",
              "      <script>\n",
              "      if (google.colab.kernel.accessAllowed && google.colab.files && google.colab.files.view) {\n",
              "        for (const element of document.querySelectorAll('.filepath')) {\n",
              "          element.style.display = 'block'\n",
              "          element.onclick = (event) => {\n",
              "            event.preventDefault();\n",
              "            event.stopPropagation();\n",
              "            google.colab.files.view(element.textContent, 37);\n",
              "          };\n",
              "        }\n",
              "      }\n",
              "      for (const element of document.querySelectorAll('.function-repr-contents')) {\n",
              "        element.onclick = (event) => {\n",
              "          event.preventDefault();\n",
              "          event.stopPropagation();\n",
              "          element.classList.toggle('function-repr-contents-collapsed');\n",
              "        };\n",
              "      }\n",
              "      </script>\n",
              "      </div>"
            ]
          },
          "metadata": {},
          "execution_count": 8
        }
      ]
    },
    {
      "cell_type": "code",
      "source": [
        "env.observation_space.shape"
      ],
      "metadata": {
        "colab": {
          "base_uri": "https://localhost:8080/"
        },
        "id": "XcbGJFUbDAwL",
        "outputId": "fc7b1bde-0488-4c22-98f4-128810940ed8"
      },
      "execution_count": 7,
      "outputs": [
        {
          "output_type": "execute_result",
          "data": {
            "text/plain": [
              "(4,)"
            ]
          },
          "metadata": {},
          "execution_count": 7
        }
      ]
    },
    {
      "cell_type": "code",
      "source": [
        "env.observation_space.shape[0]"
      ],
      "metadata": {
        "colab": {
          "base_uri": "https://localhost:8080/"
        },
        "id": "xuk2JawSGc77",
        "outputId": "414ead9c-4920-4956-d142-98c4ed74e487"
      },
      "execution_count": 17,
      "outputs": [
        {
          "output_type": "execute_result",
          "data": {
            "text/plain": [
              "4"
            ]
          },
          "metadata": {},
          "execution_count": 17
        }
      ]
    },
    {
      "cell_type": "code",
      "source": [
        "env.action_space"
      ],
      "metadata": {
        "colab": {
          "base_uri": "https://localhost:8080/"
        },
        "id": "jjokZSg3DIVo",
        "outputId": "c25e7e85-a174-478e-c735-7080218bd95a"
      },
      "execution_count": 9,
      "outputs": [
        {
          "output_type": "execute_result",
          "data": {
            "text/plain": [
              "Discrete(2)"
            ]
          },
          "metadata": {},
          "execution_count": 9
        }
      ]
    },
    {
      "cell_type": "code",
      "source": [
        "type(env.action_space)"
      ],
      "metadata": {
        "colab": {
          "base_uri": "https://localhost:8080/",
          "height": 205
        },
        "id": "txptEtMRDfc4",
        "outputId": "79d0ad92-81f1-45d1-9eb5-33d1bb1bcfaa"
      },
      "execution_count": 10,
      "outputs": [
        {
          "output_type": "execute_result",
          "data": {
            "text/plain": [
              "gymnasium.spaces.discrete.Discrete"
            ],
            "text/html": [
              "<div style=\"max-width:800px; border: 1px solid var(--colab-border-color);\"><style>\n",
              "      pre.function-repr-contents {\n",
              "        overflow-x: auto;\n",
              "        padding: 8px 12px;\n",
              "        max-height: 500px;\n",
              "      }\n",
              "\n",
              "      pre.function-repr-contents.function-repr-contents-collapsed {\n",
              "        cursor: pointer;\n",
              "        max-height: 100px;\n",
              "      }\n",
              "    </style>\n",
              "    <pre style=\"white-space: initial; background:\n",
              "         var(--colab-secondary-surface-color); padding: 8px 12px;\n",
              "         border-bottom: 1px solid var(--colab-border-color);\"><b>gymnasium.spaces.discrete.Discrete</b><br/>def __init__(n: int | np.integer[Any], seed: int | np.random.Generator | None=None, start: int | np.integer[Any]=0)</pre><pre class=\"function-repr-contents function-repr-contents-collapsed\" style=\"\"><a class=\"filepath\" style=\"display:none\" href=\"#\">/usr/local/lib/python3.12/dist-packages/gymnasium/spaces/discrete.py</a>A space consisting of finitely many elements.\n",
              "\n",
              "This class represents a finite subset of integers, more specifically a set of the form :math:`\\{ a, a+1, \\dots, a+n-1 \\}`.\n",
              "\n",
              "Example:\n",
              "    &gt;&gt;&gt; from gymnasium.spaces import Discrete\n",
              "    &gt;&gt;&gt; observation_space = Discrete(2, seed=42) # {0, 1}\n",
              "    &gt;&gt;&gt; observation_space.sample()\n",
              "    np.int64(0)\n",
              "    &gt;&gt;&gt; observation_space = Discrete(3, start=-1, seed=42)  # {-1, 0, 1}\n",
              "    &gt;&gt;&gt; observation_space.sample()\n",
              "    np.int64(-1)\n",
              "    &gt;&gt;&gt; observation_space.sample(mask=np.array([0,0,1], dtype=np.int8))\n",
              "    np.int64(1)\n",
              "    &gt;&gt;&gt; observation_space.sample(probability=np.array([0,0,1], dtype=np.float64))\n",
              "    np.int64(1)\n",
              "    &gt;&gt;&gt; observation_space.sample(probability=np.array([0,0.3,0.7], dtype=np.float64))\n",
              "    np.int64(1)</pre>\n",
              "      <script>\n",
              "      if (google.colab.kernel.accessAllowed && google.colab.files && google.colab.files.view) {\n",
              "        for (const element of document.querySelectorAll('.filepath')) {\n",
              "          element.style.display = 'block'\n",
              "          element.onclick = (event) => {\n",
              "            event.preventDefault();\n",
              "            event.stopPropagation();\n",
              "            google.colab.files.view(element.textContent, 13);\n",
              "          };\n",
              "        }\n",
              "      }\n",
              "      for (const element of document.querySelectorAll('.function-repr-contents')) {\n",
              "        element.onclick = (event) => {\n",
              "          event.preventDefault();\n",
              "          event.stopPropagation();\n",
              "          element.classList.toggle('function-repr-contents-collapsed');\n",
              "        };\n",
              "      }\n",
              "      </script>\n",
              "      </div>"
            ]
          },
          "metadata": {},
          "execution_count": 10
        }
      ]
    },
    {
      "cell_type": "code",
      "source": [
        "env.action_space.n"
      ],
      "metadata": {
        "colab": {
          "base_uri": "https://localhost:8080/"
        },
        "id": "Rfducr2aDhJi",
        "outputId": "ae4f9289-a9b7-4462-9f58-120192abe4d9"
      },
      "execution_count": 11,
      "outputs": [
        {
          "output_type": "execute_result",
          "data": {
            "text/plain": [
              "np.int64(2)"
            ]
          },
          "metadata": {},
          "execution_count": 11
        }
      ]
    },
    {
      "cell_type": "markdown",
      "source": [
        "# training"
      ],
      "metadata": {
        "id": "J5TmWyfzD8K0"
      }
    },
    {
      "cell_type": "markdown",
      "source": [
        "For each episode,\n",
        "\n",
        "\n",
        "- We begin by resetting the environment and the other variables.\n",
        "- Until the episode ends, we:\n",
        "  - Select an action using the agent’s policy\n",
        "  - Take a step in the environment using the action\n",
        "  - Calculate the TD error and thereby, the loss\n",
        "  - Update the network parameters using the loss\n",
        "  - Set the new state as the current state"
      ],
      "metadata": {
        "id": "8d7W8C9YEEvx"
      }
    },
    {
      "cell_type": "code",
      "source": [
        "# Define the training loop\n",
        "for episode in range(num_episodes):\n",
        "    # Initialize the environment\n",
        "    state, _ = env.reset() # type(state) = numpy.ndarray, i.e. [ 0.00016056  0.02509673 -0.01012855 -0.0311483 ], box dimensions\n",
        "    done = False\n",
        "    total_reward = 0\n",
        "\n",
        "    while not done:\n",
        "        # Select an action using the agent's policy\n",
        "        probs, val = agent(torch.tensor(state, dtype=torch.float32))\n",
        "        # probs: tensor([0.2676, 0.7324], grad_fn=<SoftmaxBackward0>) type: <class 'torch.Tensor'>, size == action_dim\n",
        "        # val: tensor([27.9125], grad_fn=<ViewBackward0>) type: <class 'torch.Tensor'>\n",
        "\n",
        "        action = np.random.choice(np.arange(len(probs)), p=probs.detach().numpy())\n",
        "        # len(probs): 2\n",
        "        # np.arange(len(probs)): [0 1]\n",
        "        # probs.detach(): i.e.  tensor([0.1713, 0.8287]) (grad_fn removed)\n",
        "        # probs.detach().numpy(): i.e. [0.1712847 0.8287153]\n",
        "        # Take a step in the environment\n",
        "\n",
        "        next_state, reward, done, _, _ = env.step(action) # state type: numpy.ndarray size 4, reward: float\n",
        "\n",
        "        total_reward += reward\n",
        "\n",
        "        # Calculate the TD error and loss\n",
        "        _, next_val = agent(torch.tensor(next_state, dtype=torch.float32))\n",
        "        err = reward + discount_factor * (next_val * (1 - done)) - val\n",
        "        actor_loss = -torch.log(probs[action]) * err\n",
        "        critic_loss = torch.square(err)\n",
        "        loss = actor_loss + critic_loss\n",
        "\n",
        "        # Update the network\n",
        "        optimizer.zero_grad()\n",
        "        loss.backward()\n",
        "        optimizer.step()\n",
        "\n",
        "        # Set the state to the next state\n",
        "        state = next_state\n",
        "\n",
        "    # Print the total reward for the episode\n",
        "    print(f'Episode {episode}: Total reward = {total_reward}')\n"
      ],
      "metadata": {
        "colab": {
          "base_uri": "https://localhost:8080/"
        },
        "id": "eKP1_OLyD2ce",
        "outputId": "cc6b3490-f135-4bda-ea1d-e8a2b8fea890"
      },
      "execution_count": 29,
      "outputs": [
        {
          "output_type": "stream",
          "name": "stdout",
          "text": [
            "Episode 0: Total reward = 113.0\n"
          ]
        }
      ]
    },
    {
      "cell_type": "code",
      "source": [],
      "metadata": {
        "id": "GNGmmXVjFtch"
      },
      "execution_count": 15,
      "outputs": []
    }
  ]
}