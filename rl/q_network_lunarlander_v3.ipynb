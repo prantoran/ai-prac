{
  "nbformat": 4,
  "nbformat_minor": 0,
  "metadata": {
    "colab": {
      "provenance": [],
      "authorship_tag": "ABX9TyPtirdoHDAQuTTbWhk67iw/",
      "include_colab_link": true
    },
    "kernelspec": {
      "name": "python3",
      "display_name": "Python 3"
    },
    "language_info": {
      "name": "python"
    }
  },
  "cells": [
    {
      "cell_type": "markdown",
      "metadata": {
        "id": "view-in-github",
        "colab_type": "text"
      },
      "source": [
        "<a href=\"https://colab.research.google.com/github/prantoran/ai-prac/blob/master/rl/q_network_lunarlander_v3.ipynb\" target=\"_parent\"><img src=\"https://colab.research.google.com/assets/colab-badge.svg\" alt=\"Open In Colab\"/></a>"
      ]
    },
    {
      "cell_type": "code",
      "source": [
        "!apt-get install swig # required by gymnasium[box2d]"
      ],
      "metadata": {
        "colab": {
          "base_uri": "https://localhost:8080/"
        },
        "id": "2XwzyB4OuN1A",
        "outputId": "0e0efbd6-4b6a-43c4-8d68-8e53e42964a1"
      },
      "execution_count": 2,
      "outputs": [
        {
          "output_type": "stream",
          "name": "stdout",
          "text": [
            "Reading package lists... Done\n",
            "Building dependency tree... Done\n",
            "Reading state information... Done\n",
            "The following additional packages will be installed:\n",
            "  swig4.0\n",
            "Suggested packages:\n",
            "  swig-doc swig-examples swig4.0-examples swig4.0-doc\n",
            "The following NEW packages will be installed:\n",
            "  swig swig4.0\n",
            "0 upgraded, 2 newly installed, 0 to remove and 35 not upgraded.\n",
            "Need to get 1,116 kB of archives.\n",
            "After this operation, 5,542 kB of additional disk space will be used.\n",
            "Get:1 http://archive.ubuntu.com/ubuntu jammy/universe amd64 swig4.0 amd64 4.0.2-1ubuntu1 [1,110 kB]\n",
            "Get:2 http://archive.ubuntu.com/ubuntu jammy/universe amd64 swig all 4.0.2-1ubuntu1 [5,632 B]\n",
            "Fetched 1,116 kB in 2s (729 kB/s)\n",
            "Selecting previously unselected package swig4.0.\n",
            "(Reading database ... 126374 files and directories currently installed.)\n",
            "Preparing to unpack .../swig4.0_4.0.2-1ubuntu1_amd64.deb ...\n",
            "Unpacking swig4.0 (4.0.2-1ubuntu1) ...\n",
            "Selecting previously unselected package swig.\n",
            "Preparing to unpack .../swig_4.0.2-1ubuntu1_all.deb ...\n",
            "Unpacking swig (4.0.2-1ubuntu1) ...\n",
            "Setting up swig4.0 (4.0.2-1ubuntu1) ...\n",
            "Setting up swig (4.0.2-1ubuntu1) ...\n",
            "Processing triggers for man-db (2.10.2-1) ...\n"
          ]
        }
      ]
    },
    {
      "cell_type": "code",
      "source": [
        "!pip install \"gymnasium[box2d]\" # required by gym.make(\"LunarLander-v3\")"
      ],
      "metadata": {
        "colab": {
          "base_uri": "https://localhost:8080/"
        },
        "id": "_BcSWjZIt9W3",
        "outputId": "5c008f76-45e7-4dd5-a650-3b4a3651c3a1"
      },
      "execution_count": 3,
      "outputs": [
        {
          "output_type": "stream",
          "name": "stdout",
          "text": [
            "Requirement already satisfied: gymnasium[box2d] in /usr/local/lib/python3.12/dist-packages (1.2.0)\n",
            "Requirement already satisfied: numpy>=1.21.0 in /usr/local/lib/python3.12/dist-packages (from gymnasium[box2d]) (2.0.2)\n",
            "Requirement already satisfied: cloudpickle>=1.2.0 in /usr/local/lib/python3.12/dist-packages (from gymnasium[box2d]) (3.1.1)\n",
            "Requirement already satisfied: typing-extensions>=4.3.0 in /usr/local/lib/python3.12/dist-packages (from gymnasium[box2d]) (4.15.0)\n",
            "Requirement already satisfied: farama-notifications>=0.0.1 in /usr/local/lib/python3.12/dist-packages (from gymnasium[box2d]) (0.0.4)\n",
            "Collecting box2d-py==2.3.5 (from gymnasium[box2d])\n",
            "  Downloading box2d-py-2.3.5.tar.gz (374 kB)\n",
            "\u001b[?25l     \u001b[90m━━━━━━━━━━━━━━━━━━━━━━━━━━━━━━━━━━━━━━━━\u001b[0m \u001b[32m0.0/374.4 kB\u001b[0m \u001b[31m?\u001b[0m eta \u001b[36m-:--:--\u001b[0m\r\u001b[2K     \u001b[90m━━━━━━━━━━━━━━━━━━━━━━━━━━━━━━━━━━━━━━\u001b[0m \u001b[32m374.4/374.4 kB\u001b[0m \u001b[31m12.0 MB/s\u001b[0m eta \u001b[36m0:00:00\u001b[0m\n",
            "\u001b[?25h  Preparing metadata (setup.py) ... \u001b[?25l\u001b[?25hdone\n",
            "Requirement already satisfied: pygame>=2.1.3 in /usr/local/lib/python3.12/dist-packages (from gymnasium[box2d]) (2.6.1)\n",
            "Collecting swig==4.* (from gymnasium[box2d])\n",
            "  Downloading swig-4.3.1.post0-py3-none-manylinux_2_12_x86_64.manylinux2010_x86_64.whl.metadata (3.5 kB)\n",
            "Downloading swig-4.3.1.post0-py3-none-manylinux_2_12_x86_64.manylinux2010_x86_64.whl (1.9 MB)\n",
            "\u001b[2K   \u001b[90m━━━━━━━━━━━━━━━━━━━━━━━━━━━━━━━━━━━━━━━━\u001b[0m \u001b[32m1.9/1.9 MB\u001b[0m \u001b[31m73.3 MB/s\u001b[0m eta \u001b[36m0:00:00\u001b[0m\n",
            "\u001b[?25hBuilding wheels for collected packages: box2d-py\n",
            "  Building wheel for box2d-py (setup.py) ... \u001b[?25l\u001b[?25hdone\n",
            "  Created wheel for box2d-py: filename=box2d_py-2.3.5-cp312-cp312-linux_x86_64.whl size=2381980 sha256=c41bd216947e5b5bc826b082cc309119c969ef1dda856c284880939b02fd7029\n",
            "  Stored in directory: /root/.cache/pip/wheels/2a/e9/60/774da0bcd07f7dc7761a8590fa2d065e4069568e78dcdc3318\n",
            "Successfully built box2d-py\n",
            "Installing collected packages: swig, box2d-py\n",
            "Successfully installed box2d-py-2.3.5 swig-4.3.1.post0\n"
          ]
        }
      ]
    },
    {
      "cell_type": "code",
      "execution_count": 4,
      "metadata": {
        "id": "lu6r8jHLsfpa"
      },
      "outputs": [],
      "source": [
        "import gymnasium as gym\n",
        "import numpy as np\n",
        "import torch\n",
        "import torch.nn as nn\n",
        "import torch.optim as optim"
      ]
    },
    {
      "cell_type": "code",
      "source": [
        "GEMMA = 0.99"
      ],
      "metadata": {
        "id": "UOu_Ya-Wde3L"
      },
      "execution_count": 5,
      "outputs": []
    },
    {
      "cell_type": "code",
      "source": [
        "env = gym.make(\"LunarLander-v3\")"
      ],
      "metadata": {
        "id": "1lFyKB_2sppW"
      },
      "execution_count": 6,
      "outputs": []
    },
    {
      "cell_type": "code",
      "source": [
        "class Network(nn.Module):\n",
        "    def __init__(self, dim_inputs, dim_outputs):\n",
        "        super(Network, self).__init__()\n",
        "        self.linear = nn.Linear(dim_inputs, dim_outputs)\n",
        "    def forward(self, x):\n",
        "        return self.linear(x)\n",
        "\n",
        "network = Network(8, 4)\n",
        "\n",
        "optimizer = optim.Adam(network.parameters(), lr=0.0001)\n",
        "\n",
        "print(\"Network initialized as:\\n\", network)"
      ],
      "metadata": {
        "colab": {
          "base_uri": "https://localhost:8080/"
        },
        "id": "XOXtTPZ_s65W",
        "outputId": "d8dbaa91-1198-4e3f-d4d3-d63385346d96"
      },
      "execution_count": 7,
      "outputs": [
        {
          "output_type": "stream",
          "name": "stdout",
          "text": [
            "Network initialized as:\n",
            " Network(\n",
            "  (linear): Linear(in_features=8, out_features=4, bias=True)\n",
            ")\n"
          ]
        }
      ]
    },
    {
      "cell_type": "code",
      "source": [
        "class QNetwork(nn.Module):\n",
        "    def __init__(self, state_size, action_size):\n",
        "        super(QNetwork, self).__init__()\n",
        "        # Instantiate the first hidden layer\n",
        "        self.fc1 = nn.Linear(state_size, 64)\n",
        "        self.fc2 = nn.Linear(64, 64)\n",
        "        # Instantiate the output layer\n",
        "        self.fc3 = nn.Linear(64, action_size)\n",
        "    def forward(self, state):\n",
        "        # Ensure the ReLU activation function is used\n",
        "        x = torch.relu(self.fc1(torch.tensor(state)))\n",
        "        x = torch.relu(self.fc2(x))\n",
        "        return self.fc3(x)"
      ],
      "metadata": {
        "id": "h8fdiIL15dbC"
      },
      "execution_count": 8,
      "outputs": []
    },
    {
      "cell_type": "code",
      "source": [
        "state_size = 8\n",
        "action_size = 4\n",
        "# Instantiate the Q Network\n",
        "q_network = QNetwork(state_size, action_size)\n",
        "# Specify the optimizer learning rate\n",
        "optimizer = optim.Adam(q_network.parameters(), lr=0.0001)\n",
        "\n",
        "print(\"Q-Network initialized as:\\n\", q_network)"
      ],
      "metadata": {
        "colab": {
          "base_uri": "https://localhost:8080/"
        },
        "id": "_NGF9ZZm5gZW",
        "outputId": "137108e1-faaa-4ef3-c357-86362010b0d1"
      },
      "execution_count": 9,
      "outputs": [
        {
          "output_type": "stream",
          "name": "stdout",
          "text": [
            "Q-Network initialized as:\n",
            " QNetwork(\n",
            "  (fc1): Linear(in_features=8, out_features=64, bias=True)\n",
            "  (fc2): Linear(in_features=64, out_features=64, bias=True)\n",
            "  (fc3): Linear(in_features=64, out_features=4, bias=True)\n",
            ")\n"
          ]
        }
      ]
    },
    {
      "cell_type": "code",
      "source": [
        "def select_action(q_network, state):\n",
        "  # feed state to network to get Q-values\n",
        "  q_values = q_network(state)\n",
        "  print(\"Q-values:\", [round(x, 2) for x in q_values.tolist()])\n",
        "  # Obtain index of action with the highest Q-value\n",
        "  action = torch.argmax(q_values).item()\n",
        "  print(f\"Action selected: {action}, with q-value {q_values[action]:.2f}\")\n",
        "  return action"
      ],
      "metadata": {
        "id": "caIPqsVPwLGx"
      },
      "execution_count": 10,
      "outputs": []
    },
    {
      "cell_type": "code",
      "source": [
        "def calculate_loss(\n",
        "    q_network, state, action,\n",
        "    next_state, reward, done):\n",
        "  q_values = q_network(state)\n",
        "  current_state_q_value = q_values[action]\n",
        "  next_state_q_values = q_network(next_state)\n",
        "  next_state_q_value = next_state_q_values.max()\n",
        "  target_q_value = reward + GEMMA * (1 - done) * next_state_q_value\n",
        "  loss = nn.MSELoss()(current_state_q_value, target_q_value)\n",
        "  return loss"
      ],
      "metadata": {
        "id": "M9k7uW2nwQGv"
      },
      "execution_count": 11,
      "outputs": []
    },
    {
      "cell_type": "code",
      "source": [
        "# Run ten episodes\n",
        "for episode in range(0, 10):\n",
        "    state, info = env.reset()\n",
        "    done = False\n",
        "    # Run through steps until done\n",
        "    while done:\n",
        "        action = select_action(network, state)\n",
        "        # Take the action\n",
        "        next_state, reward, terminated, truncated, _ = (env.step(action))\n",
        "        done = terminated or truncated\n",
        "        loss = calculate_loss(network, state, action, next_state, reward, done)\n",
        "        optimizer.zero_grad()\n",
        "        loss.backward()\n",
        "        optimizer.step()\n",
        "        # Update the state\n",
        "        state = next_state\n",
        "    print(f\"Episode {episode} complete.\")"
      ],
      "metadata": {
        "colab": {
          "base_uri": "https://localhost:8080/"
        },
        "id": "2JZkmy_lvKHQ",
        "outputId": "dd38526e-2073-424e-a57e-b4aa39ce9df9"
      },
      "execution_count": 12,
      "outputs": [
        {
          "output_type": "stream",
          "name": "stdout",
          "text": [
            "Episode 0 complete.\n",
            "Episode 1 complete.\n",
            "Episode 2 complete.\n",
            "Episode 3 complete.\n",
            "Episode 4 complete.\n",
            "Episode 5 complete.\n",
            "Episode 6 complete.\n",
            "Episode 7 complete.\n",
            "Episode 8 complete.\n",
            "Episode 9 complete.\n"
          ]
        }
      ]
    }
  ]
}