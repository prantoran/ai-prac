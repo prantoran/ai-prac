{
  "nbformat": 4,
  "nbformat_minor": 0,
  "metadata": {
    "colab": {
      "provenance": [],
      "collapsed_sections": [
        "GiX4_cLViqJ9"
      ],
      "toc_visible": true,
      "authorship_tag": "ABX9TyNF35vAK7iiub782xmQbPof",
      "include_colab_link": true
    },
    "kernelspec": {
      "name": "python3",
      "display_name": "Python 3"
    },
    "language_info": {
      "name": "python"
    }
  },
  "cells": [
    {
      "cell_type": "markdown",
      "metadata": {
        "id": "view-in-github",
        "colab_type": "text"
      },
      "source": [
        "<a href=\"https://colab.research.google.com/github/prantoran/ai-prac/blob/master/ML-ZoomCamp-2024/week1-duration_prediction.ipynb\" target=\"_parent\"><img src=\"https://colab.research.google.com/assets/colab-badge.svg\" alt=\"Open In Colab\"/></a>"
      ]
    },
    {
      "cell_type": "markdown",
      "source": [
        "# ML-ZoomCamp 2024: Homework week 1\n",
        "link: https://github.com/DataTalksClub/mlops-zoomcamp/blob/main/cohorts/2024/01-intro/homework.md\n",
        "\n",
        "The goal of this homework is to train a simple model for predicting the duration of a ride - similar to what we did in this module."
      ],
      "metadata": {
        "id": "GQScTBcgiTXt"
      }
    },
    {
      "cell_type": "code",
      "execution_count": 1,
      "metadata": {
        "colab": {
          "base_uri": "https://localhost:8080/"
        },
        "id": "aZAyvv5gZC_V",
        "outputId": "e79c8145-d978-4ffd-c11a-63cce18d3f5d"
      },
      "outputs": [
        {
          "output_type": "stream",
          "name": "stdout",
          "text": [
            "Python 3.10.12\n"
          ]
        }
      ],
      "source": [
        "!python -V"
      ]
    },
    {
      "cell_type": "code",
      "source": [
        "import pandas as pd"
      ],
      "metadata": {
        "id": "mgK06GlJZ1DY"
      },
      "execution_count": 2,
      "outputs": []
    },
    {
      "cell_type": "code",
      "source": [
        "import pickle"
      ],
      "metadata": {
        "id": "1qV8sd8GaEq4"
      },
      "execution_count": 3,
      "outputs": []
    },
    {
      "cell_type": "code",
      "source": [
        "import seaborn as sns\n",
        "import matplotlib.pyplot as plt"
      ],
      "metadata": {
        "id": "BzvzewEzaF8g"
      },
      "execution_count": 4,
      "outputs": []
    },
    {
      "cell_type": "code",
      "source": [
        "from sklearn.feature_extraction import DictVectorizer\n",
        "from sklearn.linear_model import LinearRegression\n",
        "from sklearn.linear_model import Lasso\n",
        "from sklearn.linear_model import Ridge\n",
        "\n",
        "from sklearn.metrics import mean_squared_error"
      ],
      "metadata": {
        "id": "8rI66DctaHv7"
      },
      "execution_count": 5,
      "outputs": []
    },
    {
      "cell_type": "markdown",
      "source": [
        "## Q1. Downloading the data\n",
        "\n",
        "We'll use [the same NYC taxi dataset](https://www1.nyc.gov/site/tlc/about/tlc-trip-record-data.page),\n",
        "but instead of \"**Green** Taxi Trip Records\", we'll use \"**Yellow** Taxi Trip Records\".\n",
        "\n",
        "Download the data for January and February 2023.\n",
        "\n",
        "Read the data for January. How many columns are there?\n",
        "\n",
        "* 16\n",
        "* 17\n",
        "* 18\n",
        "* 19"
      ],
      "metadata": {
        "id": "GiX4_cLViqJ9"
      }
    },
    {
      "cell_type": "code",
      "source": [
        "!wget https://d37ci6vzurychx.cloudfront.net/trip-data/yellow_tripdata_2023-01.parquet"
      ],
      "metadata": {
        "colab": {
          "base_uri": "https://localhost:8080/"
        },
        "id": "KCXQEaM9aQrj",
        "outputId": "25e83e6b-6b12-4f6d-e1c3-5cb92f81a912"
      },
      "execution_count": 6,
      "outputs": [
        {
          "output_type": "stream",
          "name": "stdout",
          "text": [
            "--2024-05-21 13:49:56--  https://d37ci6vzurychx.cloudfront.net/trip-data/yellow_tripdata_2023-01.parquet\n",
            "Resolving d37ci6vzurychx.cloudfront.net (d37ci6vzurychx.cloudfront.net)... 99.84.245.157, 99.84.245.193, 99.84.245.141, ...\n",
            "Connecting to d37ci6vzurychx.cloudfront.net (d37ci6vzurychx.cloudfront.net)|99.84.245.157|:443... connected.\n",
            "HTTP request sent, awaiting response... 200 OK\n",
            "Length: 47673370 (45M) [application/x-www-form-urlencoded]\n",
            "Saving to: ‘yellow_tripdata_2023-01.parquet’\n",
            "\n",
            "yellow_tripdata_202 100%[===================>]  45.46M  65.2MB/s    in 0.7s    \n",
            "\n",
            "2024-05-21 13:49:57 (65.2 MB/s) - ‘yellow_tripdata_2023-01.parquet’ saved [47673370/47673370]\n",
            "\n"
          ]
        }
      ]
    },
    {
      "cell_type": "code",
      "source": [
        "!wget https://d37ci6vzurychx.cloudfront.net/trip-data/yellow_tripdata_2023-02.parquet"
      ],
      "metadata": {
        "colab": {
          "base_uri": "https://localhost:8080/"
        },
        "id": "rUqbHQyDanKr",
        "outputId": "2a94e3b2-4d0a-4df1-be84-d5da73f4d9e0"
      },
      "execution_count": 7,
      "outputs": [
        {
          "output_type": "stream",
          "name": "stdout",
          "text": [
            "--2024-05-21 13:50:26--  https://d37ci6vzurychx.cloudfront.net/trip-data/yellow_tripdata_2023-02.parquet\n",
            "Resolving d37ci6vzurychx.cloudfront.net (d37ci6vzurychx.cloudfront.net)... 99.84.245.157, 99.84.245.141, 99.84.245.9, ...\n",
            "Connecting to d37ci6vzurychx.cloudfront.net (d37ci6vzurychx.cloudfront.net)|99.84.245.157|:443... connected.\n",
            "HTTP request sent, awaiting response... 200 OK\n",
            "Length: 47748012 (46M) [application/x-www-form-urlencoded]\n",
            "Saving to: ‘yellow_tripdata_2023-02.parquet’\n",
            "\n",
            "yellow_tripdata_202 100%[===================>]  45.54M   126MB/s    in 0.4s    \n",
            "\n",
            "2024-05-21 13:50:26 (126 MB/s) - ‘yellow_tripdata_2023-02.parquet’ saved [47748012/47748012]\n",
            "\n"
          ]
        }
      ]
    },
    {
      "cell_type": "code",
      "source": [
        "!ls -la"
      ],
      "metadata": {
        "colab": {
          "base_uri": "https://localhost:8080/"
        },
        "id": "rF34w7QXauWd",
        "outputId": "47b3421f-ae30-4d03-ece2-05e51190bdce"
      },
      "execution_count": 9,
      "outputs": [
        {
          "output_type": "stream",
          "name": "stdout",
          "text": [
            "total 93208\n",
            "drwxr-xr-x 1 root root     4096 May 21 13:50 .\n",
            "drwxr-xr-x 1 root root     4096 May 21 13:45 ..\n",
            "drwxr-xr-x 4 root root     4096 May 17 13:36 .config\n",
            "drwxr-xr-x 1 root root     4096 May 17 13:37 sample_data\n",
            "-rw-r--r-- 1 root root 47673370 Mar 20  2023 yellow_tripdata_2023-01.parquet\n",
            "-rw-r--r-- 1 root root 47748012 May  1  2023 yellow_tripdata_2023-02.parquet\n"
          ]
        }
      ]
    },
    {
      "cell_type": "code",
      "source": [
        "df = pd.read_parquet('yellow_tripdata_2023-01.parquet')"
      ],
      "metadata": {
        "id": "MliY6jw2awHF"
      },
      "execution_count": 13,
      "outputs": []
    },
    {
      "cell_type": "code",
      "source": [
        "df.info()"
      ],
      "metadata": {
        "colab": {
          "base_uri": "https://localhost:8080/"
        },
        "id": "owxnv-HobCo7",
        "outputId": "57245739-0d91-4fe7-d9c1-b9aeb3445176"
      },
      "execution_count": 15,
      "outputs": [
        {
          "output_type": "stream",
          "name": "stdout",
          "text": [
            "<class 'pandas.core.frame.DataFrame'>\n",
            "RangeIndex: 3066766 entries, 0 to 3066765\n",
            "Data columns (total 19 columns):\n",
            " #   Column                 Dtype         \n",
            "---  ------                 -----         \n",
            " 0   VendorID               int64         \n",
            " 1   tpep_pickup_datetime   datetime64[us]\n",
            " 2   tpep_dropoff_datetime  datetime64[us]\n",
            " 3   passenger_count        float64       \n",
            " 4   trip_distance          float64       \n",
            " 5   RatecodeID             float64       \n",
            " 6   store_and_fwd_flag     object        \n",
            " 7   PULocationID           int64         \n",
            " 8   DOLocationID           int64         \n",
            " 9   payment_type           int64         \n",
            " 10  fare_amount            float64       \n",
            " 11  extra                  float64       \n",
            " 12  mta_tax                float64       \n",
            " 13  tip_amount             float64       \n",
            " 14  tolls_amount           float64       \n",
            " 15  improvement_surcharge  float64       \n",
            " 16  total_amount           float64       \n",
            " 17  congestion_surcharge   float64       \n",
            " 18  airport_fee            float64       \n",
            "dtypes: datetime64[us](2), float64(12), int64(4), object(1)\n",
            "memory usage: 444.6+ MB\n"
          ]
        }
      ]
    },
    {
      "cell_type": "markdown",
      "source": [
        "## Q2. Computing duration\n",
        "\n",
        "Now let's compute the `duration` variable. It should contain the duration of a ride in minutes.\n",
        "\n",
        "What's the standard deviation of the trips duration in January?\n",
        "\n",
        "* 32.59\n",
        "* 42.59\n",
        "* 52.59\n",
        "* 62.59"
      ],
      "metadata": {
        "id": "5a_skewUi3kP"
      }
    },
    {
      "cell_type": "code",
      "source": [
        "df.head().T"
      ],
      "metadata": {
        "colab": {
          "base_uri": "https://localhost:8080/",
          "height": 665
        },
        "id": "EHHuPqxZcFxI",
        "outputId": "4514eba0-2974-4189-9cab-c8b26da128bb"
      },
      "execution_count": 16,
      "outputs": [
        {
          "output_type": "execute_result",
          "data": {
            "text/plain": [
              "                                         0                    1  \\\n",
              "VendorID                                 2                    2   \n",
              "tpep_pickup_datetime   2023-01-01 00:32:10  2023-01-01 00:55:08   \n",
              "tpep_dropoff_datetime  2023-01-01 00:40:36  2023-01-01 01:01:27   \n",
              "passenger_count                        1.0                  1.0   \n",
              "trip_distance                         0.97                  1.1   \n",
              "RatecodeID                             1.0                  1.0   \n",
              "store_and_fwd_flag                       N                    N   \n",
              "PULocationID                           161                   43   \n",
              "DOLocationID                           141                  237   \n",
              "payment_type                             2                    1   \n",
              "fare_amount                            9.3                  7.9   \n",
              "extra                                  1.0                  1.0   \n",
              "mta_tax                                0.5                  0.5   \n",
              "tip_amount                             0.0                  4.0   \n",
              "tolls_amount                           0.0                  0.0   \n",
              "improvement_surcharge                  1.0                  1.0   \n",
              "total_amount                          14.3                 16.9   \n",
              "congestion_surcharge                   2.5                  2.5   \n",
              "airport_fee                            0.0                  0.0   \n",
              "\n",
              "                                         2                    3  \\\n",
              "VendorID                                 2                    1   \n",
              "tpep_pickup_datetime   2023-01-01 00:25:04  2023-01-01 00:03:48   \n",
              "tpep_dropoff_datetime  2023-01-01 00:37:49  2023-01-01 00:13:25   \n",
              "passenger_count                        1.0                  0.0   \n",
              "trip_distance                         2.51                  1.9   \n",
              "RatecodeID                             1.0                  1.0   \n",
              "store_and_fwd_flag                       N                    N   \n",
              "PULocationID                            48                  138   \n",
              "DOLocationID                           238                    7   \n",
              "payment_type                             1                    1   \n",
              "fare_amount                           14.9                 12.1   \n",
              "extra                                  1.0                 7.25   \n",
              "mta_tax                                0.5                  0.5   \n",
              "tip_amount                            15.0                  0.0   \n",
              "tolls_amount                           0.0                  0.0   \n",
              "improvement_surcharge                  1.0                  1.0   \n",
              "total_amount                          34.9                20.85   \n",
              "congestion_surcharge                   2.5                  0.0   \n",
              "airport_fee                            0.0                 1.25   \n",
              "\n",
              "                                         4  \n",
              "VendorID                                 2  \n",
              "tpep_pickup_datetime   2023-01-01 00:10:29  \n",
              "tpep_dropoff_datetime  2023-01-01 00:21:19  \n",
              "passenger_count                        1.0  \n",
              "trip_distance                         1.43  \n",
              "RatecodeID                             1.0  \n",
              "store_and_fwd_flag                       N  \n",
              "PULocationID                           107  \n",
              "DOLocationID                            79  \n",
              "payment_type                             1  \n",
              "fare_amount                           11.4  \n",
              "extra                                  1.0  \n",
              "mta_tax                                0.5  \n",
              "tip_amount                            3.28  \n",
              "tolls_amount                           0.0  \n",
              "improvement_surcharge                  1.0  \n",
              "total_amount                         19.68  \n",
              "congestion_surcharge                   2.5  \n",
              "airport_fee                            0.0  "
            ],
            "text/html": [
              "\n",
              "  <div id=\"df-6d43ed09-dbeb-42df-b7a8-770d0818f768\" class=\"colab-df-container\">\n",
              "    <div>\n",
              "<style scoped>\n",
              "    .dataframe tbody tr th:only-of-type {\n",
              "        vertical-align: middle;\n",
              "    }\n",
              "\n",
              "    .dataframe tbody tr th {\n",
              "        vertical-align: top;\n",
              "    }\n",
              "\n",
              "    .dataframe thead th {\n",
              "        text-align: right;\n",
              "    }\n",
              "</style>\n",
              "<table border=\"1\" class=\"dataframe\">\n",
              "  <thead>\n",
              "    <tr style=\"text-align: right;\">\n",
              "      <th></th>\n",
              "      <th>0</th>\n",
              "      <th>1</th>\n",
              "      <th>2</th>\n",
              "      <th>3</th>\n",
              "      <th>4</th>\n",
              "    </tr>\n",
              "  </thead>\n",
              "  <tbody>\n",
              "    <tr>\n",
              "      <th>VendorID</th>\n",
              "      <td>2</td>\n",
              "      <td>2</td>\n",
              "      <td>2</td>\n",
              "      <td>1</td>\n",
              "      <td>2</td>\n",
              "    </tr>\n",
              "    <tr>\n",
              "      <th>tpep_pickup_datetime</th>\n",
              "      <td>2023-01-01 00:32:10</td>\n",
              "      <td>2023-01-01 00:55:08</td>\n",
              "      <td>2023-01-01 00:25:04</td>\n",
              "      <td>2023-01-01 00:03:48</td>\n",
              "      <td>2023-01-01 00:10:29</td>\n",
              "    </tr>\n",
              "    <tr>\n",
              "      <th>tpep_dropoff_datetime</th>\n",
              "      <td>2023-01-01 00:40:36</td>\n",
              "      <td>2023-01-01 01:01:27</td>\n",
              "      <td>2023-01-01 00:37:49</td>\n",
              "      <td>2023-01-01 00:13:25</td>\n",
              "      <td>2023-01-01 00:21:19</td>\n",
              "    </tr>\n",
              "    <tr>\n",
              "      <th>passenger_count</th>\n",
              "      <td>1.0</td>\n",
              "      <td>1.0</td>\n",
              "      <td>1.0</td>\n",
              "      <td>0.0</td>\n",
              "      <td>1.0</td>\n",
              "    </tr>\n",
              "    <tr>\n",
              "      <th>trip_distance</th>\n",
              "      <td>0.97</td>\n",
              "      <td>1.1</td>\n",
              "      <td>2.51</td>\n",
              "      <td>1.9</td>\n",
              "      <td>1.43</td>\n",
              "    </tr>\n",
              "    <tr>\n",
              "      <th>RatecodeID</th>\n",
              "      <td>1.0</td>\n",
              "      <td>1.0</td>\n",
              "      <td>1.0</td>\n",
              "      <td>1.0</td>\n",
              "      <td>1.0</td>\n",
              "    </tr>\n",
              "    <tr>\n",
              "      <th>store_and_fwd_flag</th>\n",
              "      <td>N</td>\n",
              "      <td>N</td>\n",
              "      <td>N</td>\n",
              "      <td>N</td>\n",
              "      <td>N</td>\n",
              "    </tr>\n",
              "    <tr>\n",
              "      <th>PULocationID</th>\n",
              "      <td>161</td>\n",
              "      <td>43</td>\n",
              "      <td>48</td>\n",
              "      <td>138</td>\n",
              "      <td>107</td>\n",
              "    </tr>\n",
              "    <tr>\n",
              "      <th>DOLocationID</th>\n",
              "      <td>141</td>\n",
              "      <td>237</td>\n",
              "      <td>238</td>\n",
              "      <td>7</td>\n",
              "      <td>79</td>\n",
              "    </tr>\n",
              "    <tr>\n",
              "      <th>payment_type</th>\n",
              "      <td>2</td>\n",
              "      <td>1</td>\n",
              "      <td>1</td>\n",
              "      <td>1</td>\n",
              "      <td>1</td>\n",
              "    </tr>\n",
              "    <tr>\n",
              "      <th>fare_amount</th>\n",
              "      <td>9.3</td>\n",
              "      <td>7.9</td>\n",
              "      <td>14.9</td>\n",
              "      <td>12.1</td>\n",
              "      <td>11.4</td>\n",
              "    </tr>\n",
              "    <tr>\n",
              "      <th>extra</th>\n",
              "      <td>1.0</td>\n",
              "      <td>1.0</td>\n",
              "      <td>1.0</td>\n",
              "      <td>7.25</td>\n",
              "      <td>1.0</td>\n",
              "    </tr>\n",
              "    <tr>\n",
              "      <th>mta_tax</th>\n",
              "      <td>0.5</td>\n",
              "      <td>0.5</td>\n",
              "      <td>0.5</td>\n",
              "      <td>0.5</td>\n",
              "      <td>0.5</td>\n",
              "    </tr>\n",
              "    <tr>\n",
              "      <th>tip_amount</th>\n",
              "      <td>0.0</td>\n",
              "      <td>4.0</td>\n",
              "      <td>15.0</td>\n",
              "      <td>0.0</td>\n",
              "      <td>3.28</td>\n",
              "    </tr>\n",
              "    <tr>\n",
              "      <th>tolls_amount</th>\n",
              "      <td>0.0</td>\n",
              "      <td>0.0</td>\n",
              "      <td>0.0</td>\n",
              "      <td>0.0</td>\n",
              "      <td>0.0</td>\n",
              "    </tr>\n",
              "    <tr>\n",
              "      <th>improvement_surcharge</th>\n",
              "      <td>1.0</td>\n",
              "      <td>1.0</td>\n",
              "      <td>1.0</td>\n",
              "      <td>1.0</td>\n",
              "      <td>1.0</td>\n",
              "    </tr>\n",
              "    <tr>\n",
              "      <th>total_amount</th>\n",
              "      <td>14.3</td>\n",
              "      <td>16.9</td>\n",
              "      <td>34.9</td>\n",
              "      <td>20.85</td>\n",
              "      <td>19.68</td>\n",
              "    </tr>\n",
              "    <tr>\n",
              "      <th>congestion_surcharge</th>\n",
              "      <td>2.5</td>\n",
              "      <td>2.5</td>\n",
              "      <td>2.5</td>\n",
              "      <td>0.0</td>\n",
              "      <td>2.5</td>\n",
              "    </tr>\n",
              "    <tr>\n",
              "      <th>airport_fee</th>\n",
              "      <td>0.0</td>\n",
              "      <td>0.0</td>\n",
              "      <td>0.0</td>\n",
              "      <td>1.25</td>\n",
              "      <td>0.0</td>\n",
              "    </tr>\n",
              "  </tbody>\n",
              "</table>\n",
              "</div>\n",
              "    <div class=\"colab-df-buttons\">\n",
              "\n",
              "  <div class=\"colab-df-container\">\n",
              "    <button class=\"colab-df-convert\" onclick=\"convertToInteractive('df-6d43ed09-dbeb-42df-b7a8-770d0818f768')\"\n",
              "            title=\"Convert this dataframe to an interactive table.\"\n",
              "            style=\"display:none;\">\n",
              "\n",
              "  <svg xmlns=\"http://www.w3.org/2000/svg\" height=\"24px\" viewBox=\"0 -960 960 960\">\n",
              "    <path d=\"M120-120v-720h720v720H120Zm60-500h600v-160H180v160Zm220 220h160v-160H400v160Zm0 220h160v-160H400v160ZM180-400h160v-160H180v160Zm440 0h160v-160H620v160ZM180-180h160v-160H180v160Zm440 0h160v-160H620v160Z\"/>\n",
              "  </svg>\n",
              "    </button>\n",
              "\n",
              "  <style>\n",
              "    .colab-df-container {\n",
              "      display:flex;\n",
              "      gap: 12px;\n",
              "    }\n",
              "\n",
              "    .colab-df-convert {\n",
              "      background-color: #E8F0FE;\n",
              "      border: none;\n",
              "      border-radius: 50%;\n",
              "      cursor: pointer;\n",
              "      display: none;\n",
              "      fill: #1967D2;\n",
              "      height: 32px;\n",
              "      padding: 0 0 0 0;\n",
              "      width: 32px;\n",
              "    }\n",
              "\n",
              "    .colab-df-convert:hover {\n",
              "      background-color: #E2EBFA;\n",
              "      box-shadow: 0px 1px 2px rgba(60, 64, 67, 0.3), 0px 1px 3px 1px rgba(60, 64, 67, 0.15);\n",
              "      fill: #174EA6;\n",
              "    }\n",
              "\n",
              "    .colab-df-buttons div {\n",
              "      margin-bottom: 4px;\n",
              "    }\n",
              "\n",
              "    [theme=dark] .colab-df-convert {\n",
              "      background-color: #3B4455;\n",
              "      fill: #D2E3FC;\n",
              "    }\n",
              "\n",
              "    [theme=dark] .colab-df-convert:hover {\n",
              "      background-color: #434B5C;\n",
              "      box-shadow: 0px 1px 3px 1px rgba(0, 0, 0, 0.15);\n",
              "      filter: drop-shadow(0px 1px 2px rgba(0, 0, 0, 0.3));\n",
              "      fill: #FFFFFF;\n",
              "    }\n",
              "  </style>\n",
              "\n",
              "    <script>\n",
              "      const buttonEl =\n",
              "        document.querySelector('#df-6d43ed09-dbeb-42df-b7a8-770d0818f768 button.colab-df-convert');\n",
              "      buttonEl.style.display =\n",
              "        google.colab.kernel.accessAllowed ? 'block' : 'none';\n",
              "\n",
              "      async function convertToInteractive(key) {\n",
              "        const element = document.querySelector('#df-6d43ed09-dbeb-42df-b7a8-770d0818f768');\n",
              "        const dataTable =\n",
              "          await google.colab.kernel.invokeFunction('convertToInteractive',\n",
              "                                                    [key], {});\n",
              "        if (!dataTable) return;\n",
              "\n",
              "        const docLinkHtml = 'Like what you see? Visit the ' +\n",
              "          '<a target=\"_blank\" href=https://colab.research.google.com/notebooks/data_table.ipynb>data table notebook</a>'\n",
              "          + ' to learn more about interactive tables.';\n",
              "        element.innerHTML = '';\n",
              "        dataTable['output_type'] = 'display_data';\n",
              "        await google.colab.output.renderOutput(dataTable, element);\n",
              "        const docLink = document.createElement('div');\n",
              "        docLink.innerHTML = docLinkHtml;\n",
              "        element.appendChild(docLink);\n",
              "      }\n",
              "    </script>\n",
              "  </div>\n",
              "\n",
              "\n",
              "<div id=\"df-29162a9b-eea7-458e-b4c3-bfbebf8d7c91\">\n",
              "  <button class=\"colab-df-quickchart\" onclick=\"quickchart('df-29162a9b-eea7-458e-b4c3-bfbebf8d7c91')\"\n",
              "            title=\"Suggest charts\"\n",
              "            style=\"display:none;\">\n",
              "\n",
              "<svg xmlns=\"http://www.w3.org/2000/svg\" height=\"24px\"viewBox=\"0 0 24 24\"\n",
              "     width=\"24px\">\n",
              "    <g>\n",
              "        <path d=\"M19 3H5c-1.1 0-2 .9-2 2v14c0 1.1.9 2 2 2h14c1.1 0 2-.9 2-2V5c0-1.1-.9-2-2-2zM9 17H7v-7h2v7zm4 0h-2V7h2v10zm4 0h-2v-4h2v4z\"/>\n",
              "    </g>\n",
              "</svg>\n",
              "  </button>\n",
              "\n",
              "<style>\n",
              "  .colab-df-quickchart {\n",
              "      --bg-color: #E8F0FE;\n",
              "      --fill-color: #1967D2;\n",
              "      --hover-bg-color: #E2EBFA;\n",
              "      --hover-fill-color: #174EA6;\n",
              "      --disabled-fill-color: #AAA;\n",
              "      --disabled-bg-color: #DDD;\n",
              "  }\n",
              "\n",
              "  [theme=dark] .colab-df-quickchart {\n",
              "      --bg-color: #3B4455;\n",
              "      --fill-color: #D2E3FC;\n",
              "      --hover-bg-color: #434B5C;\n",
              "      --hover-fill-color: #FFFFFF;\n",
              "      --disabled-bg-color: #3B4455;\n",
              "      --disabled-fill-color: #666;\n",
              "  }\n",
              "\n",
              "  .colab-df-quickchart {\n",
              "    background-color: var(--bg-color);\n",
              "    border: none;\n",
              "    border-radius: 50%;\n",
              "    cursor: pointer;\n",
              "    display: none;\n",
              "    fill: var(--fill-color);\n",
              "    height: 32px;\n",
              "    padding: 0;\n",
              "    width: 32px;\n",
              "  }\n",
              "\n",
              "  .colab-df-quickchart:hover {\n",
              "    background-color: var(--hover-bg-color);\n",
              "    box-shadow: 0 1px 2px rgba(60, 64, 67, 0.3), 0 1px 3px 1px rgba(60, 64, 67, 0.15);\n",
              "    fill: var(--button-hover-fill-color);\n",
              "  }\n",
              "\n",
              "  .colab-df-quickchart-complete:disabled,\n",
              "  .colab-df-quickchart-complete:disabled:hover {\n",
              "    background-color: var(--disabled-bg-color);\n",
              "    fill: var(--disabled-fill-color);\n",
              "    box-shadow: none;\n",
              "  }\n",
              "\n",
              "  .colab-df-spinner {\n",
              "    border: 2px solid var(--fill-color);\n",
              "    border-color: transparent;\n",
              "    border-bottom-color: var(--fill-color);\n",
              "    animation:\n",
              "      spin 1s steps(1) infinite;\n",
              "  }\n",
              "\n",
              "  @keyframes spin {\n",
              "    0% {\n",
              "      border-color: transparent;\n",
              "      border-bottom-color: var(--fill-color);\n",
              "      border-left-color: var(--fill-color);\n",
              "    }\n",
              "    20% {\n",
              "      border-color: transparent;\n",
              "      border-left-color: var(--fill-color);\n",
              "      border-top-color: var(--fill-color);\n",
              "    }\n",
              "    30% {\n",
              "      border-color: transparent;\n",
              "      border-left-color: var(--fill-color);\n",
              "      border-top-color: var(--fill-color);\n",
              "      border-right-color: var(--fill-color);\n",
              "    }\n",
              "    40% {\n",
              "      border-color: transparent;\n",
              "      border-right-color: var(--fill-color);\n",
              "      border-top-color: var(--fill-color);\n",
              "    }\n",
              "    60% {\n",
              "      border-color: transparent;\n",
              "      border-right-color: var(--fill-color);\n",
              "    }\n",
              "    80% {\n",
              "      border-color: transparent;\n",
              "      border-right-color: var(--fill-color);\n",
              "      border-bottom-color: var(--fill-color);\n",
              "    }\n",
              "    90% {\n",
              "      border-color: transparent;\n",
              "      border-bottom-color: var(--fill-color);\n",
              "    }\n",
              "  }\n",
              "</style>\n",
              "\n",
              "  <script>\n",
              "    async function quickchart(key) {\n",
              "      const quickchartButtonEl =\n",
              "        document.querySelector('#' + key + ' button');\n",
              "      quickchartButtonEl.disabled = true;  // To prevent multiple clicks.\n",
              "      quickchartButtonEl.classList.add('colab-df-spinner');\n",
              "      try {\n",
              "        const charts = await google.colab.kernel.invokeFunction(\n",
              "            'suggestCharts', [key], {});\n",
              "      } catch (error) {\n",
              "        console.error('Error during call to suggestCharts:', error);\n",
              "      }\n",
              "      quickchartButtonEl.classList.remove('colab-df-spinner');\n",
              "      quickchartButtonEl.classList.add('colab-df-quickchart-complete');\n",
              "    }\n",
              "    (() => {\n",
              "      let quickchartButtonEl =\n",
              "        document.querySelector('#df-29162a9b-eea7-458e-b4c3-bfbebf8d7c91 button');\n",
              "      quickchartButtonEl.style.display =\n",
              "        google.colab.kernel.accessAllowed ? 'block' : 'none';\n",
              "    })();\n",
              "  </script>\n",
              "</div>\n",
              "\n",
              "    </div>\n",
              "  </div>\n"
            ],
            "application/vnd.google.colaboratory.intrinsic+json": {
              "type": "dataframe",
              "variable_name": "df"
            }
          },
          "metadata": {},
          "execution_count": 16
        }
      ]
    },
    {
      "cell_type": "code",
      "source": [
        "df['duration'] = df.tpep_dropoff_datetime - df.tpep_pickup_datetime\n",
        "df.duration = df.duration.apply(lambda td: td.total_seconds() / 60)"
      ],
      "metadata": {
        "id": "DZLWE7ibbQe1"
      },
      "execution_count": 18,
      "outputs": []
    },
    {
      "cell_type": "code",
      "source": [
        "df.duration.describe()"
      ],
      "metadata": {
        "colab": {
          "base_uri": "https://localhost:8080/"
        },
        "id": "lcn4YZTMcO9h",
        "outputId": "aaff135e-76a8-42d6-f275-fafffd7159f1"
      },
      "execution_count": 19,
      "outputs": [
        {
          "output_type": "execute_result",
          "data": {
            "text/plain": [
              "count    3.066766e+06\n",
              "mean     1.566900e+01\n",
              "std      4.259435e+01\n",
              "min     -2.920000e+01\n",
              "25%      7.116667e+00\n",
              "50%      1.151667e+01\n",
              "75%      1.830000e+01\n",
              "max      1.002918e+04\n",
              "Name: duration, dtype: float64"
            ]
          },
          "metadata": {},
          "execution_count": 19
        }
      ]
    },
    {
      "cell_type": "markdown",
      "source": [
        "## Q3. Dropping outliers\n",
        "\n",
        "Next, we need to check the distribution of the `duration` variable. There are some outliers. Let's remove them and keep only the records where the duration was between 1 and 60 minutes (inclusive).\n",
        "\n",
        "What fraction of the records left after you dropped the outliers?\n",
        "\n",
        "* 90%\n",
        "* 92%\n",
        "* 95%\n",
        "* 98%"
      ],
      "metadata": {
        "id": "X0rkfdrcjJv9"
      }
    },
    {
      "cell_type": "code",
      "source": [
        "df = df[(df.duration >= 1) & (df.duration <= 60)]"
      ],
      "metadata": {
        "id": "VN2r2C0HcfZy"
      },
      "execution_count": 20,
      "outputs": []
    },
    {
      "cell_type": "code",
      "source": [
        "df.info()"
      ],
      "metadata": {
        "colab": {
          "base_uri": "https://localhost:8080/"
        },
        "id": "pF8h49tuc7uP",
        "outputId": "391894ad-dd15-41c1-d710-480ae4f736f1"
      },
      "execution_count": 21,
      "outputs": [
        {
          "output_type": "stream",
          "name": "stdout",
          "text": [
            "<class 'pandas.core.frame.DataFrame'>\n",
            "Index: 3009173 entries, 0 to 3066765\n",
            "Data columns (total 20 columns):\n",
            " #   Column                 Dtype         \n",
            "---  ------                 -----         \n",
            " 0   VendorID               int64         \n",
            " 1   tpep_pickup_datetime   datetime64[us]\n",
            " 2   tpep_dropoff_datetime  datetime64[us]\n",
            " 3   passenger_count        float64       \n",
            " 4   trip_distance          float64       \n",
            " 5   RatecodeID             float64       \n",
            " 6   store_and_fwd_flag     object        \n",
            " 7   PULocationID           int64         \n",
            " 8   DOLocationID           int64         \n",
            " 9   payment_type           int64         \n",
            " 10  fare_amount            float64       \n",
            " 11  extra                  float64       \n",
            " 12  mta_tax                float64       \n",
            " 13  tip_amount             float64       \n",
            " 14  tolls_amount           float64       \n",
            " 15  improvement_surcharge  float64       \n",
            " 16  total_amount           float64       \n",
            " 17  congestion_surcharge   float64       \n",
            " 18  airport_fee            float64       \n",
            " 19  duration               float64       \n",
            "dtypes: datetime64[us](2), float64(13), int64(4), object(1)\n",
            "memory usage: 482.1+ MB\n"
          ]
        }
      ]
    },
    {
      "cell_type": "markdown",
      "source": [
        "## Q4. One-hot encoding\n",
        "\n",
        "Let's apply one-hot encoding to the pickup and dropoff location IDs. We'll use only these two features for our model.\n",
        "\n",
        "* Turn the dataframe into a list of dictionaries (remember to re-cast the ids to strings - otherwise it will\n",
        "  label encode them)\n",
        "* Fit a dictionary vectorizer\n",
        "* Get a feature matrix from it\n",
        "\n",
        "What's the dimensionality of this matrix (number of columns)?\n",
        "\n",
        "* 2\n",
        "* 155\n",
        "* 345\n",
        "* 515\n",
        "* 715"
      ],
      "metadata": {
        "id": "acxSR8DOjTHO"
      }
    },
    {
      "cell_type": "markdown",
      "source": [],
      "metadata": {
        "id": "33Y5znHCjFfm"
      }
    },
    {
      "cell_type": "code",
      "source": [
        "categorical = ['PULocationID', 'DOLocationID']\n",
        "numerical = ['trip_distance']"
      ],
      "metadata": {
        "id": "q36RKEgIc-IH"
      },
      "execution_count": 22,
      "outputs": []
    },
    {
      "cell_type": "code",
      "source": [
        "df[categorical] = df[categorical].astype(str)"
      ],
      "metadata": {
        "id": "Hnmp3oLId_Y7"
      },
      "execution_count": 23,
      "outputs": []
    },
    {
      "cell_type": "code",
      "source": [
        "train_dicts = df[categorical + numerical].to_dict(orient='records')"
      ],
      "metadata": {
        "id": "6RaIqrZMeA7F"
      },
      "execution_count": 24,
      "outputs": []
    },
    {
      "cell_type": "code",
      "source": [
        "dv = DictVectorizer()\n",
        "X_train = dv.fit_transform(train_dicts)"
      ],
      "metadata": {
        "id": "OdlPOAudePbe"
      },
      "execution_count": 25,
      "outputs": []
    },
    {
      "cell_type": "code",
      "source": [
        "type(X_train)"
      ],
      "metadata": {
        "colab": {
          "base_uri": "https://localhost:8080/",
          "height": 207
        },
        "id": "aBNdyUWDeTDV",
        "outputId": "ecbdf011-3290-4d01-f1e0-7b57084101fd"
      },
      "execution_count": 26,
      "outputs": [
        {
          "output_type": "execute_result",
          "data": {
            "text/plain": [
              "scipy.sparse._csr.csr_matrix"
            ],
            "text/html": [
              "<div style=\"max-width:800px; border: 1px solid var(--colab-border-color);\"><style>\n",
              "      pre.function-repr-contents {\n",
              "        overflow-x: auto;\n",
              "        padding: 8px 12px;\n",
              "        max-height: 500px;\n",
              "      }\n",
              "\n",
              "      pre.function-repr-contents.function-repr-contents-collapsed {\n",
              "        cursor: pointer;\n",
              "        max-height: 100px;\n",
              "      }\n",
              "    </style>\n",
              "    <pre style=\"white-space: initial; background:\n",
              "         var(--colab-secondary-surface-color); padding: 8px 12px;\n",
              "         border-bottom: 1px solid var(--colab-border-color);\"><b>scipy.sparse._csr.csr_matrix</b><br/>def __init__(arg1, shape=None, dtype=None, copy=False)</pre><pre class=\"function-repr-contents function-repr-contents-collapsed\" style=\"\"><a class=\"filepath\" style=\"display:none\" href=\"#\">/usr/local/lib/python3.10/dist-packages/scipy/sparse/_csr.py</a>Compressed Sparse Row matrix\n",
              "\n",
              "This can be instantiated in several ways:\n",
              "    csr_array(D)\n",
              "        with a dense matrix or rank-2 ndarray D\n",
              "\n",
              "    csr_array(S)\n",
              "        with another sparse matrix S (equivalent to S.tocsr())\n",
              "\n",
              "    csr_array((M, N), [dtype])\n",
              "        to construct an empty matrix with shape (M, N)\n",
              "        dtype is optional, defaulting to dtype=&#x27;d&#x27;.\n",
              "\n",
              "    csr_array((data, (row_ind, col_ind)), [shape=(M, N)])\n",
              "        where ``data``, ``row_ind`` and ``col_ind`` satisfy the\n",
              "        relationship ``a[row_ind[k], col_ind[k]] = data[k]``.\n",
              "\n",
              "    csr_array((data, indices, indptr), [shape=(M, N)])\n",
              "        is the standard CSR representation where the column indices for\n",
              "        row i are stored in ``indices[indptr[i]:indptr[i+1]]`` and their\n",
              "        corresponding values are stored in ``data[indptr[i]:indptr[i+1]]``.\n",
              "        If the shape parameter is not supplied, the matrix dimensions\n",
              "        are inferred from the index arrays.\n",
              "\n",
              "Attributes\n",
              "----------\n",
              "dtype : dtype\n",
              "    Data type of the matrix\n",
              "shape : 2-tuple\n",
              "    Shape of the matrix\n",
              "ndim : int\n",
              "    Number of dimensions (this is always 2)\n",
              "nnz\n",
              "    Number of stored values, including explicit zeros\n",
              "data\n",
              "    CSR format data array of the matrix\n",
              "indices\n",
              "    CSR format index array of the matrix\n",
              "indptr\n",
              "    CSR format index pointer array of the matrix\n",
              "has_sorted_indices\n",
              "    Whether indices are sorted\n",
              "\n",
              "Notes\n",
              "-----\n",
              "\n",
              "Sparse matrices can be used in arithmetic operations: they support\n",
              "addition, subtraction, multiplication, division, and matrix power.\n",
              "\n",
              "Advantages of the CSR format\n",
              "  - efficient arithmetic operations CSR + CSR, CSR * CSR, etc.\n",
              "  - efficient row slicing\n",
              "  - fast matrix vector products\n",
              "\n",
              "Disadvantages of the CSR format\n",
              "  - slow column slicing operations (consider CSC)\n",
              "  - changes to the sparsity structure are expensive (consider LIL or DOK)\n",
              "\n",
              "Canonical Format\n",
              "    - Within each row, indices are sorted by column.\n",
              "    - There are no duplicate entries.\n",
              "\n",
              "Examples\n",
              "--------\n",
              "\n",
              "&gt;&gt;&gt; import numpy as np\n",
              "&gt;&gt;&gt; from scipy.sparse import csr_array\n",
              "&gt;&gt;&gt; csr_array((3, 4), dtype=np.int8).toarray()\n",
              "array([[0, 0, 0, 0],\n",
              "       [0, 0, 0, 0],\n",
              "       [0, 0, 0, 0]], dtype=int8)\n",
              "\n",
              "&gt;&gt;&gt; row = np.array([0, 0, 1, 2, 2, 2])\n",
              "&gt;&gt;&gt; col = np.array([0, 2, 2, 0, 1, 2])\n",
              "&gt;&gt;&gt; data = np.array([1, 2, 3, 4, 5, 6])\n",
              "&gt;&gt;&gt; csr_array((data, (row, col)), shape=(3, 3)).toarray()\n",
              "array([[1, 0, 2],\n",
              "       [0, 0, 3],\n",
              "       [4, 5, 6]])\n",
              "\n",
              "&gt;&gt;&gt; indptr = np.array([0, 2, 3, 6])\n",
              "&gt;&gt;&gt; indices = np.array([0, 2, 2, 0, 1, 2])\n",
              "&gt;&gt;&gt; data = np.array([1, 2, 3, 4, 5, 6])\n",
              "&gt;&gt;&gt; csr_array((data, indices, indptr), shape=(3, 3)).toarray()\n",
              "array([[1, 0, 2],\n",
              "       [0, 0, 3],\n",
              "       [4, 5, 6]])\n",
              "\n",
              "Duplicate entries are summed together:\n",
              "\n",
              "&gt;&gt;&gt; row = np.array([0, 1, 2, 0])\n",
              "&gt;&gt;&gt; col = np.array([0, 1, 1, 0])\n",
              "&gt;&gt;&gt; data = np.array([1, 2, 4, 8])\n",
              "&gt;&gt;&gt; csr_array((data, (row, col)), shape=(3, 3)).toarray()\n",
              "array([[9, 0, 0],\n",
              "       [0, 2, 0],\n",
              "       [0, 4, 0]])\n",
              "\n",
              "As an example of how to construct a CSR matrix incrementally,\n",
              "the following snippet builds a term-document matrix from texts:\n",
              "\n",
              "&gt;&gt;&gt; docs = [[&quot;hello&quot;, &quot;world&quot;, &quot;hello&quot;], [&quot;goodbye&quot;, &quot;cruel&quot;, &quot;world&quot;]]\n",
              "&gt;&gt;&gt; indptr = [0]\n",
              "&gt;&gt;&gt; indices = []\n",
              "&gt;&gt;&gt; data = []\n",
              "&gt;&gt;&gt; vocabulary = {}\n",
              "&gt;&gt;&gt; for d in docs:\n",
              "...     for term in d:\n",
              "...         index = vocabulary.setdefault(term, len(vocabulary))\n",
              "...         indices.append(index)\n",
              "...         data.append(1)\n",
              "...     indptr.append(len(indices))\n",
              "...\n",
              "&gt;&gt;&gt; csr_array((data, indices, indptr), dtype=int).toarray()\n",
              "array([[2, 1, 0, 0],\n",
              "       [0, 1, 1, 1]])</pre>\n",
              "      <script>\n",
              "      if (google.colab.kernel.accessAllowed && google.colab.files && google.colab.files.view) {\n",
              "        for (const element of document.querySelectorAll('.filepath')) {\n",
              "          element.style.display = 'block'\n",
              "          element.onclick = (event) => {\n",
              "            event.preventDefault();\n",
              "            event.stopPropagation();\n",
              "            google.colab.files.view(element.textContent, 370);\n",
              "          };\n",
              "        }\n",
              "      }\n",
              "      for (const element of document.querySelectorAll('.function-repr-contents')) {\n",
              "        element.onclick = (event) => {\n",
              "          event.preventDefault();\n",
              "          event.stopPropagation();\n",
              "          element.classList.toggle('function-repr-contents-collapsed');\n",
              "        };\n",
              "      }\n",
              "      </script>\n",
              "      </div>"
            ]
          },
          "metadata": {},
          "execution_count": 26
        }
      ]
    },
    {
      "cell_type": "code",
      "source": [
        "X_train"
      ],
      "metadata": {
        "colab": {
          "base_uri": "https://localhost:8080/"
        },
        "id": "-SUeCDjgec91",
        "outputId": "f9fecb80-93bf-4e44-9a7a-99a9d09b0329"
      },
      "execution_count": 28,
      "outputs": [
        {
          "output_type": "execute_result",
          "data": {
            "text/plain": [
              "<3009173x516 sparse matrix of type '<class 'numpy.float64'>'\n",
              "\twith 9027519 stored elements in Compressed Sparse Row format>"
            ]
          },
          "metadata": {},
          "execution_count": 28
        }
      ]
    },
    {
      "cell_type": "code",
      "source": [
        "dv.get_feature_names_out()"
      ],
      "metadata": {
        "colab": {
          "base_uri": "https://localhost:8080/"
        },
        "id": "YbNeJtaHegBX",
        "outputId": "79ac1bb1-90bd-4eb5-f45c-c35e8fd672e6"
      },
      "execution_count": 30,
      "outputs": [
        {
          "output_type": "execute_result",
          "data": {
            "text/plain": [
              "array(['DOLocationID=1', 'DOLocationID=10', 'DOLocationID=100',\n",
              "       'DOLocationID=101', 'DOLocationID=102', 'DOLocationID=106',\n",
              "       'DOLocationID=107', 'DOLocationID=108', 'DOLocationID=109',\n",
              "       'DOLocationID=11', 'DOLocationID=111', 'DOLocationID=112',\n",
              "       'DOLocationID=113', 'DOLocationID=114', 'DOLocationID=115',\n",
              "       'DOLocationID=116', 'DOLocationID=117', 'DOLocationID=118',\n",
              "       'DOLocationID=119', 'DOLocationID=12', 'DOLocationID=120',\n",
              "       'DOLocationID=121', 'DOLocationID=122', 'DOLocationID=123',\n",
              "       'DOLocationID=124', 'DOLocationID=125', 'DOLocationID=126',\n",
              "       'DOLocationID=127', 'DOLocationID=128', 'DOLocationID=129',\n",
              "       'DOLocationID=13', 'DOLocationID=130', 'DOLocationID=131',\n",
              "       'DOLocationID=132', 'DOLocationID=133', 'DOLocationID=134',\n",
              "       'DOLocationID=135', 'DOLocationID=136', 'DOLocationID=137',\n",
              "       'DOLocationID=138', 'DOLocationID=139', 'DOLocationID=14',\n",
              "       'DOLocationID=140', 'DOLocationID=141', 'DOLocationID=142',\n",
              "       'DOLocationID=143', 'DOLocationID=144', 'DOLocationID=145',\n",
              "       'DOLocationID=146', 'DOLocationID=147', 'DOLocationID=148',\n",
              "       'DOLocationID=149', 'DOLocationID=15', 'DOLocationID=150',\n",
              "       'DOLocationID=151', 'DOLocationID=152', 'DOLocationID=153',\n",
              "       'DOLocationID=154', 'DOLocationID=155', 'DOLocationID=156',\n",
              "       'DOLocationID=157', 'DOLocationID=158', 'DOLocationID=159',\n",
              "       'DOLocationID=16', 'DOLocationID=160', 'DOLocationID=161',\n",
              "       'DOLocationID=162', 'DOLocationID=163', 'DOLocationID=164',\n",
              "       'DOLocationID=165', 'DOLocationID=166', 'DOLocationID=167',\n",
              "       'DOLocationID=168', 'DOLocationID=169', 'DOLocationID=17',\n",
              "       'DOLocationID=170', 'DOLocationID=171', 'DOLocationID=172',\n",
              "       'DOLocationID=173', 'DOLocationID=174', 'DOLocationID=175',\n",
              "       'DOLocationID=176', 'DOLocationID=177', 'DOLocationID=178',\n",
              "       'DOLocationID=179', 'DOLocationID=18', 'DOLocationID=180',\n",
              "       'DOLocationID=181', 'DOLocationID=182', 'DOLocationID=183',\n",
              "       'DOLocationID=184', 'DOLocationID=185', 'DOLocationID=186',\n",
              "       'DOLocationID=187', 'DOLocationID=188', 'DOLocationID=189',\n",
              "       'DOLocationID=19', 'DOLocationID=190', 'DOLocationID=191',\n",
              "       'DOLocationID=192', 'DOLocationID=193', 'DOLocationID=194',\n",
              "       'DOLocationID=195', 'DOLocationID=196', 'DOLocationID=197',\n",
              "       'DOLocationID=198', 'DOLocationID=2', 'DOLocationID=20',\n",
              "       'DOLocationID=200', 'DOLocationID=201', 'DOLocationID=202',\n",
              "       'DOLocationID=203', 'DOLocationID=204', 'DOLocationID=205',\n",
              "       'DOLocationID=206', 'DOLocationID=207', 'DOLocationID=208',\n",
              "       'DOLocationID=209', 'DOLocationID=21', 'DOLocationID=210',\n",
              "       'DOLocationID=211', 'DOLocationID=212', 'DOLocationID=213',\n",
              "       'DOLocationID=214', 'DOLocationID=215', 'DOLocationID=216',\n",
              "       'DOLocationID=217', 'DOLocationID=218', 'DOLocationID=219',\n",
              "       'DOLocationID=22', 'DOLocationID=220', 'DOLocationID=221',\n",
              "       'DOLocationID=222', 'DOLocationID=223', 'DOLocationID=224',\n",
              "       'DOLocationID=225', 'DOLocationID=226', 'DOLocationID=227',\n",
              "       'DOLocationID=228', 'DOLocationID=229', 'DOLocationID=23',\n",
              "       'DOLocationID=230', 'DOLocationID=231', 'DOLocationID=232',\n",
              "       'DOLocationID=233', 'DOLocationID=234', 'DOLocationID=235',\n",
              "       'DOLocationID=236', 'DOLocationID=237', 'DOLocationID=238',\n",
              "       'DOLocationID=239', 'DOLocationID=24', 'DOLocationID=240',\n",
              "       'DOLocationID=241', 'DOLocationID=242', 'DOLocationID=243',\n",
              "       'DOLocationID=244', 'DOLocationID=245', 'DOLocationID=246',\n",
              "       'DOLocationID=247', 'DOLocationID=248', 'DOLocationID=249',\n",
              "       'DOLocationID=25', 'DOLocationID=250', 'DOLocationID=251',\n",
              "       'DOLocationID=252', 'DOLocationID=253', 'DOLocationID=254',\n",
              "       'DOLocationID=255', 'DOLocationID=256', 'DOLocationID=257',\n",
              "       'DOLocationID=258', 'DOLocationID=259', 'DOLocationID=26',\n",
              "       'DOLocationID=260', 'DOLocationID=261', 'DOLocationID=262',\n",
              "       'DOLocationID=263', 'DOLocationID=264', 'DOLocationID=265',\n",
              "       'DOLocationID=27', 'DOLocationID=28', 'DOLocationID=29',\n",
              "       'DOLocationID=3', 'DOLocationID=30', 'DOLocationID=31',\n",
              "       'DOLocationID=32', 'DOLocationID=33', 'DOLocationID=34',\n",
              "       'DOLocationID=35', 'DOLocationID=36', 'DOLocationID=37',\n",
              "       'DOLocationID=38', 'DOLocationID=39', 'DOLocationID=4',\n",
              "       'DOLocationID=40', 'DOLocationID=41', 'DOLocationID=42',\n",
              "       'DOLocationID=43', 'DOLocationID=44', 'DOLocationID=45',\n",
              "       'DOLocationID=46', 'DOLocationID=47', 'DOLocationID=48',\n",
              "       'DOLocationID=49', 'DOLocationID=5', 'DOLocationID=50',\n",
              "       'DOLocationID=51', 'DOLocationID=52', 'DOLocationID=53',\n",
              "       'DOLocationID=54', 'DOLocationID=55', 'DOLocationID=56',\n",
              "       'DOLocationID=57', 'DOLocationID=58', 'DOLocationID=59',\n",
              "       'DOLocationID=6', 'DOLocationID=60', 'DOLocationID=61',\n",
              "       'DOLocationID=62', 'DOLocationID=63', 'DOLocationID=64',\n",
              "       'DOLocationID=65', 'DOLocationID=66', 'DOLocationID=67',\n",
              "       'DOLocationID=68', 'DOLocationID=69', 'DOLocationID=7',\n",
              "       'DOLocationID=70', 'DOLocationID=71', 'DOLocationID=72',\n",
              "       'DOLocationID=73', 'DOLocationID=74', 'DOLocationID=75',\n",
              "       'DOLocationID=76', 'DOLocationID=77', 'DOLocationID=78',\n",
              "       'DOLocationID=79', 'DOLocationID=8', 'DOLocationID=80',\n",
              "       'DOLocationID=81', 'DOLocationID=82', 'DOLocationID=83',\n",
              "       'DOLocationID=84', 'DOLocationID=85', 'DOLocationID=86',\n",
              "       'DOLocationID=87', 'DOLocationID=88', 'DOLocationID=89',\n",
              "       'DOLocationID=9', 'DOLocationID=90', 'DOLocationID=91',\n",
              "       'DOLocationID=92', 'DOLocationID=93', 'DOLocationID=94',\n",
              "       'DOLocationID=95', 'DOLocationID=96', 'DOLocationID=97',\n",
              "       'DOLocationID=98', 'DOLocationID=99', 'PULocationID=1',\n",
              "       'PULocationID=10', 'PULocationID=100', 'PULocationID=101',\n",
              "       'PULocationID=102', 'PULocationID=106', 'PULocationID=107',\n",
              "       'PULocationID=108', 'PULocationID=109', 'PULocationID=11',\n",
              "       'PULocationID=111', 'PULocationID=112', 'PULocationID=113',\n",
              "       'PULocationID=114', 'PULocationID=115', 'PULocationID=116',\n",
              "       'PULocationID=117', 'PULocationID=118', 'PULocationID=119',\n",
              "       'PULocationID=12', 'PULocationID=120', 'PULocationID=121',\n",
              "       'PULocationID=122', 'PULocationID=123', 'PULocationID=124',\n",
              "       'PULocationID=125', 'PULocationID=126', 'PULocationID=127',\n",
              "       'PULocationID=128', 'PULocationID=129', 'PULocationID=13',\n",
              "       'PULocationID=130', 'PULocationID=131', 'PULocationID=132',\n",
              "       'PULocationID=133', 'PULocationID=134', 'PULocationID=135',\n",
              "       'PULocationID=136', 'PULocationID=137', 'PULocationID=138',\n",
              "       'PULocationID=139', 'PULocationID=14', 'PULocationID=140',\n",
              "       'PULocationID=141', 'PULocationID=142', 'PULocationID=143',\n",
              "       'PULocationID=144', 'PULocationID=145', 'PULocationID=146',\n",
              "       'PULocationID=147', 'PULocationID=148', 'PULocationID=149',\n",
              "       'PULocationID=15', 'PULocationID=150', 'PULocationID=151',\n",
              "       'PULocationID=152', 'PULocationID=153', 'PULocationID=154',\n",
              "       'PULocationID=155', 'PULocationID=156', 'PULocationID=157',\n",
              "       'PULocationID=158', 'PULocationID=159', 'PULocationID=16',\n",
              "       'PULocationID=160', 'PULocationID=161', 'PULocationID=162',\n",
              "       'PULocationID=163', 'PULocationID=164', 'PULocationID=165',\n",
              "       'PULocationID=166', 'PULocationID=167', 'PULocationID=168',\n",
              "       'PULocationID=169', 'PULocationID=17', 'PULocationID=170',\n",
              "       'PULocationID=171', 'PULocationID=172', 'PULocationID=173',\n",
              "       'PULocationID=174', 'PULocationID=175', 'PULocationID=177',\n",
              "       'PULocationID=178', 'PULocationID=179', 'PULocationID=18',\n",
              "       'PULocationID=180', 'PULocationID=181', 'PULocationID=182',\n",
              "       'PULocationID=183', 'PULocationID=184', 'PULocationID=185',\n",
              "       'PULocationID=186', 'PULocationID=187', 'PULocationID=188',\n",
              "       'PULocationID=189', 'PULocationID=19', 'PULocationID=190',\n",
              "       'PULocationID=191', 'PULocationID=192', 'PULocationID=193',\n",
              "       'PULocationID=194', 'PULocationID=195', 'PULocationID=196',\n",
              "       'PULocationID=197', 'PULocationID=198', 'PULocationID=199',\n",
              "       'PULocationID=2', 'PULocationID=20', 'PULocationID=200',\n",
              "       'PULocationID=201', 'PULocationID=202', 'PULocationID=203',\n",
              "       'PULocationID=205', 'PULocationID=206', 'PULocationID=207',\n",
              "       'PULocationID=208', 'PULocationID=209', 'PULocationID=21',\n",
              "       'PULocationID=210', 'PULocationID=211', 'PULocationID=212',\n",
              "       'PULocationID=213', 'PULocationID=214', 'PULocationID=215',\n",
              "       'PULocationID=216', 'PULocationID=217', 'PULocationID=218',\n",
              "       'PULocationID=219', 'PULocationID=22', 'PULocationID=220',\n",
              "       'PULocationID=221', 'PULocationID=222', 'PULocationID=223',\n",
              "       'PULocationID=224', 'PULocationID=225', 'PULocationID=226',\n",
              "       'PULocationID=227', 'PULocationID=228', 'PULocationID=229',\n",
              "       'PULocationID=23', 'PULocationID=230', 'PULocationID=231',\n",
              "       'PULocationID=232', 'PULocationID=233', 'PULocationID=234',\n",
              "       'PULocationID=235', 'PULocationID=236', 'PULocationID=237',\n",
              "       'PULocationID=238', 'PULocationID=239', 'PULocationID=24',\n",
              "       'PULocationID=240', 'PULocationID=241', 'PULocationID=242',\n",
              "       'PULocationID=243', 'PULocationID=244', 'PULocationID=245',\n",
              "       'PULocationID=246', 'PULocationID=247', 'PULocationID=248',\n",
              "       'PULocationID=249', 'PULocationID=25', 'PULocationID=250',\n",
              "       'PULocationID=251', 'PULocationID=252', 'PULocationID=253',\n",
              "       'PULocationID=254', 'PULocationID=255', 'PULocationID=256',\n",
              "       'PULocationID=257', 'PULocationID=258', 'PULocationID=259',\n",
              "       'PULocationID=26', 'PULocationID=260', 'PULocationID=261',\n",
              "       'PULocationID=262', 'PULocationID=263', 'PULocationID=264',\n",
              "       'PULocationID=265', 'PULocationID=28', 'PULocationID=29',\n",
              "       'PULocationID=3', 'PULocationID=30', 'PULocationID=31',\n",
              "       'PULocationID=32', 'PULocationID=33', 'PULocationID=34',\n",
              "       'PULocationID=35', 'PULocationID=36', 'PULocationID=37',\n",
              "       'PULocationID=38', 'PULocationID=39', 'PULocationID=4',\n",
              "       'PULocationID=40', 'PULocationID=41', 'PULocationID=42',\n",
              "       'PULocationID=43', 'PULocationID=44', 'PULocationID=45',\n",
              "       'PULocationID=46', 'PULocationID=47', 'PULocationID=48',\n",
              "       'PULocationID=49', 'PULocationID=5', 'PULocationID=50',\n",
              "       'PULocationID=51', 'PULocationID=52', 'PULocationID=53',\n",
              "       'PULocationID=54', 'PULocationID=55', 'PULocationID=56',\n",
              "       'PULocationID=57', 'PULocationID=58', 'PULocationID=6',\n",
              "       'PULocationID=60', 'PULocationID=61', 'PULocationID=62',\n",
              "       'PULocationID=63', 'PULocationID=64', 'PULocationID=65',\n",
              "       'PULocationID=66', 'PULocationID=67', 'PULocationID=68',\n",
              "       'PULocationID=69', 'PULocationID=7', 'PULocationID=70',\n",
              "       'PULocationID=71', 'PULocationID=72', 'PULocationID=73',\n",
              "       'PULocationID=74', 'PULocationID=75', 'PULocationID=76',\n",
              "       'PULocationID=77', 'PULocationID=78', 'PULocationID=79',\n",
              "       'PULocationID=8', 'PULocationID=80', 'PULocationID=81',\n",
              "       'PULocationID=82', 'PULocationID=83', 'PULocationID=85',\n",
              "       'PULocationID=86', 'PULocationID=87', 'PULocationID=88',\n",
              "       'PULocationID=89', 'PULocationID=9', 'PULocationID=90',\n",
              "       'PULocationID=91', 'PULocationID=92', 'PULocationID=93',\n",
              "       'PULocationID=94', 'PULocationID=95', 'PULocationID=96',\n",
              "       'PULocationID=97', 'PULocationID=98', 'trip_distance'],\n",
              "      dtype=object)"
            ]
          },
          "metadata": {},
          "execution_count": 30
        }
      ]
    },
    {
      "cell_type": "code",
      "source": [
        "len(dv.get_feature_names_out())"
      ],
      "metadata": {
        "colab": {
          "base_uri": "https://localhost:8080/"
        },
        "id": "4auWlW47fenm",
        "outputId": "dd837775-624b-43ff-8aa1-b0c92aa12587"
      },
      "execution_count": 31,
      "outputs": [
        {
          "output_type": "execute_result",
          "data": {
            "text/plain": [
              "516"
            ]
          },
          "metadata": {},
          "execution_count": 31
        }
      ]
    },
    {
      "cell_type": "markdown",
      "source": [
        "## Q5. Training a model\n",
        "\n",
        "Now let's use the feature matrix from the previous step to train a model.\n",
        "\n",
        "* Train a plain linear regression model with default parameters\n",
        "* Calculate the RMSE of the model on the training data\n",
        "\n",
        "What's the RMSE on train?\n",
        "\n",
        "* 3.64\n",
        "* 7.64\n",
        "* 11.64\n",
        "* 16.64"
      ],
      "metadata": {
        "id": "YGA_Yv4AjYu8"
      }
    },
    {
      "cell_type": "code",
      "source": [
        "target = 'duration'\n",
        "y_train = df[target].values"
      ],
      "metadata": {
        "id": "DAU362pHfwqv"
      },
      "execution_count": 32,
      "outputs": []
    },
    {
      "cell_type": "code",
      "source": [
        "lr = LinearRegression()\n",
        "lr.fit(X_train, y_train)"
      ],
      "metadata": {
        "colab": {
          "base_uri": "https://localhost:8080/",
          "height": 95
        },
        "id": "fGB5Dv97gFk4",
        "outputId": "5044d2d8-e3eb-47b8-e108-ea7123044625"
      },
      "execution_count": 33,
      "outputs": [
        {
          "output_type": "execute_result",
          "data": {
            "text/plain": [
              "LinearRegression()"
            ],
            "text/html": [
              "<style>#sk-container-id-1 {color: black;background-color: white;}#sk-container-id-1 pre{padding: 0;}#sk-container-id-1 div.sk-toggleable {background-color: white;}#sk-container-id-1 label.sk-toggleable__label {cursor: pointer;display: block;width: 100%;margin-bottom: 0;padding: 0.3em;box-sizing: border-box;text-align: center;}#sk-container-id-1 label.sk-toggleable__label-arrow:before {content: \"▸\";float: left;margin-right: 0.25em;color: #696969;}#sk-container-id-1 label.sk-toggleable__label-arrow:hover:before {color: black;}#sk-container-id-1 div.sk-estimator:hover label.sk-toggleable__label-arrow:before {color: black;}#sk-container-id-1 div.sk-toggleable__content {max-height: 0;max-width: 0;overflow: hidden;text-align: left;background-color: #f0f8ff;}#sk-container-id-1 div.sk-toggleable__content pre {margin: 0.2em;color: black;border-radius: 0.25em;background-color: #f0f8ff;}#sk-container-id-1 input.sk-toggleable__control:checked~div.sk-toggleable__content {max-height: 200px;max-width: 100%;overflow: auto;}#sk-container-id-1 input.sk-toggleable__control:checked~label.sk-toggleable__label-arrow:before {content: \"▾\";}#sk-container-id-1 div.sk-estimator input.sk-toggleable__control:checked~label.sk-toggleable__label {background-color: #d4ebff;}#sk-container-id-1 div.sk-label input.sk-toggleable__control:checked~label.sk-toggleable__label {background-color: #d4ebff;}#sk-container-id-1 input.sk-hidden--visually {border: 0;clip: rect(1px 1px 1px 1px);clip: rect(1px, 1px, 1px, 1px);height: 1px;margin: -1px;overflow: hidden;padding: 0;position: absolute;width: 1px;}#sk-container-id-1 div.sk-estimator {font-family: monospace;background-color: #f0f8ff;border: 1px dotted black;border-radius: 0.25em;box-sizing: border-box;margin-bottom: 0.5em;}#sk-container-id-1 div.sk-estimator:hover {background-color: #d4ebff;}#sk-container-id-1 div.sk-parallel-item::after {content: \"\";width: 100%;border-bottom: 1px solid gray;flex-grow: 1;}#sk-container-id-1 div.sk-label:hover label.sk-toggleable__label {background-color: #d4ebff;}#sk-container-id-1 div.sk-serial::before {content: \"\";position: absolute;border-left: 1px solid gray;box-sizing: border-box;top: 0;bottom: 0;left: 50%;z-index: 0;}#sk-container-id-1 div.sk-serial {display: flex;flex-direction: column;align-items: center;background-color: white;padding-right: 0.2em;padding-left: 0.2em;position: relative;}#sk-container-id-1 div.sk-item {position: relative;z-index: 1;}#sk-container-id-1 div.sk-parallel {display: flex;align-items: stretch;justify-content: center;background-color: white;position: relative;}#sk-container-id-1 div.sk-item::before, #sk-container-id-1 div.sk-parallel-item::before {content: \"\";position: absolute;border-left: 1px solid gray;box-sizing: border-box;top: 0;bottom: 0;left: 50%;z-index: -1;}#sk-container-id-1 div.sk-parallel-item {display: flex;flex-direction: column;z-index: 1;position: relative;background-color: white;}#sk-container-id-1 div.sk-parallel-item:first-child::after {align-self: flex-end;width: 50%;}#sk-container-id-1 div.sk-parallel-item:last-child::after {align-self: flex-start;width: 50%;}#sk-container-id-1 div.sk-parallel-item:only-child::after {width: 0;}#sk-container-id-1 div.sk-dashed-wrapped {border: 1px dashed gray;margin: 0 0.4em 0.5em 0.4em;box-sizing: border-box;padding-bottom: 0.4em;background-color: white;}#sk-container-id-1 div.sk-label label {font-family: monospace;font-weight: bold;display: inline-block;line-height: 1.2em;}#sk-container-id-1 div.sk-label-container {text-align: center;}#sk-container-id-1 div.sk-container {/* jupyter's `normalize.less` sets `[hidden] { display: none; }` but bootstrap.min.css set `[hidden] { display: none !important; }` so we also need the `!important` here to be able to override the default hidden behavior on the sphinx rendered scikit-learn.org. See: https://github.com/scikit-learn/scikit-learn/issues/21755 */display: inline-block !important;position: relative;}#sk-container-id-1 div.sk-text-repr-fallback {display: none;}</style><div id=\"sk-container-id-1\" class=\"sk-top-container\"><div class=\"sk-text-repr-fallback\"><pre>LinearRegression()</pre><b>In a Jupyter environment, please rerun this cell to show the HTML representation or trust the notebook. <br />On GitHub, the HTML representation is unable to render, please try loading this page with nbviewer.org.</b></div><div class=\"sk-container\" hidden><div class=\"sk-item\"><div class=\"sk-estimator sk-toggleable\"><input class=\"sk-toggleable__control sk-hidden--visually\" id=\"sk-estimator-id-1\" type=\"checkbox\" checked><label for=\"sk-estimator-id-1\" class=\"sk-toggleable__label sk-toggleable__label-arrow\">LinearRegression</label><div class=\"sk-toggleable__content\"><pre>LinearRegression()</pre></div></div></div></div></div>"
            ]
          },
          "metadata": {},
          "execution_count": 33
        }
      ]
    },
    {
      "cell_type": "code",
      "source": [
        "y_pred = lr.predict(X_train)"
      ],
      "metadata": {
        "id": "MZ3_dKB_gH_1"
      },
      "execution_count": 34,
      "outputs": []
    },
    {
      "cell_type": "code",
      "source": [
        "mean_squared_error(y_train, y_pred, squared=False)"
      ],
      "metadata": {
        "colab": {
          "base_uri": "https://localhost:8080/"
        },
        "id": "36V64mHYgJUL",
        "outputId": "f98227fe-aa44-4e4c-aa33-fb03e2fd11f2"
      },
      "execution_count": 35,
      "outputs": [
        {
          "output_type": "execute_result",
          "data": {
            "text/plain": [
              "7.656752063242953"
            ]
          },
          "metadata": {},
          "execution_count": 35
        }
      ]
    },
    {
      "cell_type": "code",
      "source": [
        "sns.distplot(y_pred, label='prediction')\n",
        "sns.distplot(y_train, label='actual')\n",
        "\n",
        "plt.legend()"
      ],
      "metadata": {
        "colab": {
          "base_uri": "https://localhost:8080/",
          "height": 849
        },
        "id": "gY7rzeDSgKp8",
        "outputId": "819ba45f-d8a2-4c96-c974-84f703081aaa"
      },
      "execution_count": 36,
      "outputs": [
        {
          "output_type": "stream",
          "name": "stderr",
          "text": [
            "<ipython-input-36-5fdabbf3bec2>:1: UserWarning: \n",
            "\n",
            "`distplot` is a deprecated function and will be removed in seaborn v0.14.0.\n",
            "\n",
            "Please adapt your code to use either `displot` (a figure-level function with\n",
            "similar flexibility) or `histplot` (an axes-level function for histograms).\n",
            "\n",
            "For a guide to updating your code to use the new functions, please see\n",
            "https://gist.github.com/mwaskom/de44147ed2974457ad6372750bbe5751\n",
            "\n",
            "  sns.distplot(y_pred, label='prediction')\n",
            "<ipython-input-36-5fdabbf3bec2>:2: UserWarning: \n",
            "\n",
            "`distplot` is a deprecated function and will be removed in seaborn v0.14.0.\n",
            "\n",
            "Please adapt your code to use either `displot` (a figure-level function with\n",
            "similar flexibility) or `histplot` (an axes-level function for histograms).\n",
            "\n",
            "For a guide to updating your code to use the new functions, please see\n",
            "https://gist.github.com/mwaskom/de44147ed2974457ad6372750bbe5751\n",
            "\n",
            "  sns.distplot(y_train, label='actual')\n"
          ]
        },
        {
          "output_type": "execute_result",
          "data": {
            "text/plain": [
              "<matplotlib.legend.Legend at 0x7acad4f1d390>"
            ]
          },
          "metadata": {},
          "execution_count": 36
        },
        {
          "output_type": "display_data",
          "data": {
            "text/plain": [
              "<Figure size 640x480 with 1 Axes>"
            ],
            "image/png": "[encoded data removed]"
          },
          "metadata": {}
        }
      ]
    },
    {
      "cell_type": "markdown",
      "source": [
        "## Q6. Evaluating the model\n",
        "\n",
        "Now let's apply this model to the validation dataset (February 2023).\n",
        "\n",
        "What's the RMSE on validation?\n",
        "\n",
        "* 3.81\n",
        "* 7.81\n",
        "* 11.81\n",
        "* 16.81"
      ],
      "metadata": {
        "id": "mbgZlkwYjg_p"
      }
    },
    {
      "cell_type": "code",
      "source": [
        "def read_dataframe(filename):\n",
        "    if filename.endswith('.csv'):\n",
        "        df = pd.read_csv(filename)\n",
        "\n",
        "        df.tpep_dropoff_datetime = pd.to_datetime(df.tpep_dropoff_datetime)\n",
        "        df.tpep_pickup_datetime = pd.to_datetime(df.tpep_pickup_datetime)\n",
        "    elif filename.endswith('.parquet'):\n",
        "        df = pd.read_parquet(filename)\n",
        "\n",
        "    df['duration'] = df.tpep_dropoff_datetime - df.tpep_pickup_datetime\n",
        "    df.duration = df.duration.apply(lambda td: td.total_seconds() / 60)\n",
        "\n",
        "    df = df[(df.duration >= 1) & (df.duration <= 60)]\n",
        "\n",
        "    categorical = ['PULocationID', 'DOLocationID']\n",
        "    df[categorical] = df[categorical].astype(str)\n",
        "\n",
        "    return df\n"
      ],
      "metadata": {
        "id": "hrCe9Lk0gU6c"
      },
      "execution_count": 37,
      "outputs": []
    },
    {
      "cell_type": "code",
      "source": [
        "df_val = read_dataframe('yellow_tripdata_2023-02.parquet')"
      ],
      "metadata": {
        "id": "QLyuTgmXhDN2"
      },
      "execution_count": 39,
      "outputs": []
    },
    {
      "cell_type": "code",
      "source": [
        "len(df_val)"
      ],
      "metadata": {
        "colab": {
          "base_uri": "https://localhost:8080/"
        },
        "id": "1u2wMfCKhJAm",
        "outputId": "e5fb099a-77d0-44e3-c974-7e88e30350a4"
      },
      "execution_count": 42,
      "outputs": [
        {
          "output_type": "execute_result",
          "data": {
            "text/plain": [
              "2855951"
            ]
          },
          "metadata": {},
          "execution_count": 42
        }
      ]
    },
    {
      "cell_type": "code",
      "source": [
        "val_dicts = df_val[categorical + numerical].to_dict(orient='records')\n",
        "X_val = dv.transform(val_dicts)"
      ],
      "metadata": {
        "id": "A2iJWG8uhOTg"
      },
      "execution_count": 43,
      "outputs": []
    },
    {
      "cell_type": "code",
      "source": [
        "y_val = df_val[target].values"
      ],
      "metadata": {
        "id": "KQP8WLtehtv7"
      },
      "execution_count": 44,
      "outputs": []
    },
    {
      "cell_type": "code",
      "source": [
        "y_pred = lr.predict(X_val)"
      ],
      "metadata": {
        "id": "TaCOfoDyhx9V"
      },
      "execution_count": 45,
      "outputs": []
    },
    {
      "cell_type": "code",
      "source": [
        "mean_squared_error(y_val, y_pred, squared=False)"
      ],
      "metadata": {
        "colab": {
          "base_uri": "https://localhost:8080/"
        },
        "id": "JReoYK6wh04X",
        "outputId": "b68ea6e4-53aa-47f4-ae5e-34969e25fb9f"
      },
      "execution_count": 46,
      "outputs": [
        {
          "output_type": "execute_result",
          "data": {
            "text/plain": [
              "7.818628965425388"
            ]
          },
          "metadata": {},
          "execution_count": 46
        }
      ]
    },
    {
      "cell_type": "code",
      "source": [
        "with open('lin_reg.bin', 'wb') as f_out:\n",
        "    pickle.dump((dv, lr), f_out)"
      ],
      "metadata": {
        "id": "df-8qIiBh2YP"
      },
      "execution_count": 48,
      "outputs": []
    },
    {
      "cell_type": "markdown",
      "source": [
        "## Submit the results\n",
        "\n",
        "* Submit your results here: https://courses.datatalks.club/mlops-zoomcamp-2024/homework/hw1\n",
        "* If your answer doesn't match options exactly, select the closest one"
      ],
      "metadata": {
        "id": "Q4TNNjDNjnmI"
      }
    }
  ]
}