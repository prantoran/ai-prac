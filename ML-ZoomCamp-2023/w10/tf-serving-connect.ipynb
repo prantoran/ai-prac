{
 "cells": [
  {
   "cell_type": "code",
   "execution_count": 1,
   "id": "5913e439",
   "metadata": {},
   "outputs": [],
   "source": [
    "# !pip install protobuf==3.20.0"
   ]
  },
  {
   "cell_type": "code",
   "execution_count": 2,
   "id": "88997d50",
   "metadata": {},
   "outputs": [],
   "source": [
    "# !pip install protobuf==3.20.0 grpcio==1.42.0 tensorflow-serving-api==2.7.0"
   ]
  },
  {
   "cell_type": "code",
   "execution_count": 3,
   "id": "15942fbd",
   "metadata": {},
   "outputs": [
    {
     "name": "stdout",
     "output_type": "stream",
     "text": [
      "Collecting keras-image-helper\n",
      "  Using cached keras_image_helper-0.0.1-py3-none-any.whl (4.6 kB)\n",
      "Requirement already satisfied: numpy in /home/pinku/miniconda3/envs/tf2/lib/python3.8/site-packages (from keras-image-helper) (1.24.4)\n",
      "Collecting pillow (from keras-image-helper)\n",
      "  Downloading Pillow-10.1.0-cp38-cp38-manylinux_2_28_x86_64.whl.metadata (9.5 kB)\n",
      "Downloading Pillow-10.1.0-cp38-cp38-manylinux_2_28_x86_64.whl (3.6 MB)\n",
      "\u001b[2K   \u001b[38;2;114;156;31m━━━━━━━━━━━━━━━━━━━━━━━━━━━━━━━━━━━━━━━━\u001b[0m \u001b[32m3.6/3.6 MB\u001b[0m \u001b[31m1.1 MB/s\u001b[0m eta \u001b[36m0:00:00\u001b[0mm eta \u001b[36m0:00:01\u001b[0m[36m0:00:01\u001b[0m\n",
      "\u001b[?25hInstalling collected packages: pillow, keras-image-helper\n",
      "Successfully installed keras-image-helper-0.0.1 pillow-10.1.0\n"
     ]
    }
   ],
   "source": [
    "!pip install keras-image-helper"
   ]
  },
  {
   "cell_type": "code",
   "execution_count": 1,
   "id": "3df7173d",
   "metadata": {},
   "outputs": [
    {
     "name": "stderr",
     "output_type": "stream",
     "text": [
      "2023-12-04 11:03:37.425655: I tensorflow/core/platform/cpu_feature_guard.cc:193] This TensorFlow binary is optimized with oneAPI Deep Neural Network Library (oneDNN) to use the following CPU instructions in performance-critical operations:  AVX2 FMA\n",
      "To enable them in other operations, rebuild TensorFlow with the appropriate compiler flags.\n",
      "2023-12-04 11:03:38.850322: W tensorflow/compiler/xla/stream_executor/platform/default/dso_loader.cc:64] Could not load dynamic library 'libnvinfer.so.7'; dlerror: libnvinfer.so.7: cannot open shared object file: No such file or directory\n",
      "2023-12-04 11:03:38.850476: W tensorflow/compiler/xla/stream_executor/platform/default/dso_loader.cc:64] Could not load dynamic library 'libnvinfer_plugin.so.7'; dlerror: libnvinfer_plugin.so.7: cannot open shared object file: No such file or directory\n",
      "2023-12-04 11:03:38.850482: W tensorflow/compiler/tf2tensorrt/utils/py_utils.cc:38] TF-TRT Warning: Cannot dlopen some TensorRT libraries. If you would like to use Nvidia GPU with TensorRT, please make sure the missing libraries mentioned above are installed properly.\n"
     ]
    }
   ],
   "source": [
    "import grpc\n",
    "\n",
    "import tensorflow as tf\n",
    "\n",
    "from tensorflow_serving.apis import predict_pb2\n",
    "from tensorflow_serving.apis import prediction_service_pb2_grpc"
   ]
  },
  {
   "cell_type": "code",
   "execution_count": 2,
   "id": "a523cd5d",
   "metadata": {},
   "outputs": [],
   "source": [
    "host = 'localhost:8500'\n",
    "\n",
    "channel = grpc.insecure_channel(host)\n",
    "\n",
    "stub = prediction_service_pb2_grpc.PredictionServiceStub(channel)"
   ]
  },
  {
   "cell_type": "code",
   "execution_count": 3,
   "id": "76603227",
   "metadata": {},
   "outputs": [],
   "source": [
    "from keras_image_helper import create_preprocessor"
   ]
  },
  {
   "cell_type": "code",
   "execution_count": 4,
   "id": "fc67657b",
   "metadata": {},
   "outputs": [],
   "source": [
    "preprocessor = create_preprocessor('xception', target_size=(299, 299))"
   ]
  },
  {
   "cell_type": "code",
   "execution_count": null,
   "id": "d7b0b290",
   "metadata": {},
   "outputs": [],
   "source": [
    "url = 'http://bit.ly/mlbookcamp-pants'\n",
    "X = preprocessor.from_url(url)"
   ]
  },
  {
   "cell_type": "code",
   "execution_count": null,
   "id": "18d85d38",
   "metadata": {},
   "outputs": [],
   "source": [
    "def np_to_protobuf(data):\n",
    "    return tf.make_tensor_proto(data, shape=data.shape)"
   ]
  },
  {
   "cell_type": "code",
   "execution_count": null,
   "id": "fa64a2ff",
   "metadata": {},
   "outputs": [],
   "source": [
    "pb_request = predict_pb2.PredictRequest()\n",
    "\n",
    "pb_request.model_spec.name = 'clothing-model'\n",
    "pb_request.model_spec.signature_name = 'serving_default'\n",
    "\n",
    "pb_request.inputs['input_8'].CopyFrom(np_to_protobuf(X))"
   ]
  },
  {
   "cell_type": "code",
   "execution_count": null,
   "id": "c12ea9cc",
   "metadata": {},
   "outputs": [],
   "source": [
    "pb_response = stub.Predict(pb_request, timeout=20.0)"
   ]
  },
  {
   "cell_type": "code",
   "execution_count": null,
   "id": "c87d4486",
   "metadata": {},
   "outputs": [],
   "source": [
    "pb_response"
   ]
  },
  {
   "cell_type": "code",
   "execution_count": null,
   "id": "00ff559d-eb9a-41ce-bf3e-229c925e0a59",
   "metadata": {},
   "outputs": [],
   "source": [
    "preds = pb_response.outputs['dense_7'].float_val\n",
    "preds"
   ]
  },
  {
   "cell_type": "code",
   "execution_count": null,
   "id": "901c53d5-5d7a-49f1-b81b-2f32561cf15e",
   "metadata": {},
   "outputs": [],
   "source": [
    "pb_response.model_spec"
   ]
  },
  {
   "cell_type": "code",
   "execution_count": null,
   "id": "ac8b651f-a70f-44ef-a304-d91517800735",
   "metadata": {},
   "outputs": [],
   "source": [
    "pb_response.model_spec.name"
   ]
  },
  {
   "cell_type": "code",
   "execution_count": null,
   "id": "9eb71eb0-1286-4db9-8012-6b79adeedb47",
   "metadata": {},
   "outputs": [],
   "source": [
    "pb_response.model_spec.version"
   ]
  },
  {
   "cell_type": "code",
   "execution_count": null,
   "id": "8599bd75-5d6f-409c-a1d5-027feb77a4d8",
   "metadata": {},
   "outputs": [],
   "source": [
    "classes = [\n",
    "    'dress',\n",
    "    'hat',\n",
    "    'longsleeve',\n",
    "    'outwear',\n",
    "    'pants',\n",
    "    'shirt',\n",
    "    'shoes',\n",
    "    'shorts',\n",
    "    'skirt',\n",
    "    't-shirt'\n",
    "]"
   ]
  },
  {
   "cell_type": "code",
   "execution_count": null,
   "id": "ea283837-219c-43b6-a7a5-a9b672c74e7b",
   "metadata": {},
   "outputs": [],
   "source": [
    "dict(zip(classes, preds))"
   ]
  },
  {
   "cell_type": "code",
   "execution_count": null,
   "id": "83dadb88-acc5-473c-9cfa-328f5447236b",
   "metadata": {},
   "outputs": [],
   "source": []
  },
  {
   "cell_type": "code",
   "execution_count": null,
   "id": "d788edca-4630-47a1-acc4-5389b6c9a65d",
   "metadata": {},
   "outputs": [],
   "source": []
  }
 ],
 "metadata": {
  "kernelspec": {
   "display_name": "Python 3 (ipykernel)",
   "language": "python",
   "name": "python3"
  },
  "language_info": {
   "codemirror_mode": {
    "name": "ipython",
    "version": 3
   },
   "file_extension": ".py",
   "mimetype": "text/x-python",
   "name": "python",
   "nbconvert_exporter": "python",
   "pygments_lexer": "ipython3",
   "version": "3.8.18"
  }
 },
 "nbformat": 4,
 "nbformat_minor": 5
}
