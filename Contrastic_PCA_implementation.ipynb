{
  "nbformat": 4,
  "nbformat_minor": 0,
  "metadata": {
    "colab": {
      "provenance": [],
      "include_colab_link": true
    },
    "kernelspec": {
      "name": "python3",
      "display_name": "Python 3"
    }
  },
  "cells": [
    {
      "cell_type": "markdown",
      "metadata": {
        "id": "view-in-github",
        "colab_type": "text"
      },
      "source": [
        "<a href=\"https://colab.research.google.com/github/prantoran/ai-prac/blob/master/Contrastic_PCA_implementation.ipynb\" target=\"_parent\"><img src=\"https://colab.research.google.com/assets/colab-badge.svg\" alt=\"Open In Colab\"/></a>"
      ]
    },
    {
      "cell_type": "markdown",
      "metadata": {
        "id": "KFkLRCzTXTzL"
      },
      "source": [
        "**Contrastive PCA**: Read [this paper](https://www.nature.com/articles/s41467-018-04608-8)\n",
        "\n",
        "- Implementation of contrastive PCA in Python.\n",
        "\n",
        "* The method to a synthetic dataset and compared with standard PCA.\n"
      ]
    },
    {
      "cell_type": "markdown",
      "source": [
        "Constrastive PCA will work for datasets which are an overlap of two distinct\n",
        "set of features/patterns in the same dataset and where we want to identify\n",
        "the presence of features that are not dominant in the dataset.\n",
        "\n",
        "For example, there is a dataset that consists of a dominant pattern that is\n",
        "identified by the PCA. However, at the same time, there is a weaker pattern\n",
        "present in the dataset whose presence is more important to us and this weaker\n",
        "pattern will not be strongly correlated with the principal components of the\n",
        "PCA.\n",
        "\n",
        "The idea of Contrastive PCA is simple at its core. We subtract the signals\n",
        "associated with the dominant background pattern from the dataset while been\n",
        "projected at a different space so that the weaker but more important pattern\n",
        "becomes the prominant signal in the processed dataset.\n",
        "\n",
        "Contrastice PCA depends on a background dataset to be available for dataset\n",
        "that is stable, is related to the pattern in our dataset that we want to eliminate and is not chaning with time. Also, the background dataset does not need to be exact as long as they follow the same pattern (in our dataset)."
      ],
      "metadata": {
        "id": "TpyqWl-ly0wy"
      }
    },
    {
      "cell_type": "code",
      "source": [
        "import numpy as np\n",
        "from sklearn.decomposition import PCA\n",
        "from sklearn import cluster # used in find_spectral_alphas()\n",
        "from numpy import linalg as LA # used in cpca_alphas()\n",
        "import inspect"
      ],
      "metadata": {
        "id": "Uct-OYou_dx9"
      },
      "execution_count": null,
      "outputs": []
    },
    {
      "cell_type": "code",
      "source": [
        "# attributes\n",
        "\n",
        "standardize = True\n",
        "n_components = 2\n",
        "verbose = False\n",
        "fitted = False\n",
        "\n",
        "pca_directions = None\n",
        "bg_eig_vals = None\n",
        "affinity_matrix = NotImplemented\n",
        "fg = NotImplemented\n",
        "bg = NotImplemented\n",
        "bg_cov = NotImplemented\n",
        "fg_cov = NotImplemented\n",
        "active_labels = NotImplemented\n",
        "colors = NotImplemented\n",
        "n_fg = NotImplemented\n",
        "features_d = NotImplemented\n",
        "n_bg = NotImplemented\n",
        "features_d_bg = NotImplemented"
      ],
      "metadata": {
        "id": "Du7aZuI3_lvu"
      },
      "execution_count": null,
      "outputs": []
    },
    {
      "cell_type": "code",
      "source": [
        "\n",
        "def standardize_array(array):\n",
        "  standardized_array =  (array-np.mean(array,axis=0)) / np.std(array,axis=0)\n",
        "  return np.nan_to_num(standardized_array)"
      ],
      "metadata": {
        "id": "1CQzUSfQywRk"
      },
      "execution_count": null,
      "outputs": []
    },
    {
      "cell_type": "code",
      "source": [
        "\n",
        "\"\"\"\n",
        "Computes the covariance matrices of the foreground and background datasets\n",
        "Parameters\n",
        "-----------\n",
        "foreground: array, shape (n_data_points, n_features)\n",
        "    The dataset in which the interesting directions that we would like to discover are present or enriched\n",
        "background : array, shape (n_data_points, n_features)\n",
        "    The dataset in which the interesting directions that we would like to discover are absent or unenriched\n",
        "preprocess_with_pca_dim: int\n",
        "    If this parameter is provided (and it is smaller than n_features), then both the foreground and background\n",
        "    datasets undergo a preliminary round of PCA to reduce their dimension to this number. If it is not provided\n",
        "    but n_features > 1,000, a preliminary round of PCA is automatically performed to reduce the dimensionality to 1,000.\n",
        "\"\"\"\n",
        "\n",
        "def fit( foreground, background, preprocess_with_pca_dim=None):\n",
        "      global pca_directions, bg_eig_vals, affinity_matrix, fg, bg, bg_cov, fg_cov, n_fg, featured_d, n_bg, features_d_bg\n",
        "      # Housekeeping\n",
        "      pca_directions = None\n",
        "      bg_eig_vals = None\n",
        "      affinity_matrix = None\n",
        "\n",
        "      # Datasets and dataset sizes\n",
        "      fg = foreground\n",
        "      bg = background\n",
        "      n_fg, features_d = foreground.shape # n_fg = rows, featured_d = cols\n",
        "      n_bg, features_d_bg = background.shape\n",
        "\n",
        "      print(\"foreground.shape:\", foreground.shape, \"n_fg:\", n_fg, \"features_d:\", features_d)\n",
        "\n",
        "      if not(features_d==features_d_bg):\n",
        "          raise ValueError('The dimensionality of the foreground and background datasets must be the same')\n",
        "\n",
        "      #if the dimension is higher than preprocess_with_pca_dim, then PCA is performed to reduce the dimensionality\n",
        "      if preprocess_with_pca_dim is None:\n",
        "          preprocess_with_pca_dim = 1000\n",
        "\n",
        "      #Center the background and foreground data\n",
        "      bg = bg - np.mean(bg, axis=0) # mean along the rows, preserving the colums\n",
        "      if standardize: #Standardize if specified\n",
        "          bg = standardize_array(bg)\n",
        "\n",
        "      fg = fg - np.mean(fg, axis=0)\n",
        "      if standardize: #Standardize if specified\n",
        "          fg = standardize_array(fg)\n",
        "\n",
        "      if (features_d < preprocess_with_pca_dim):\n",
        "          data = np.concatenate((fg, bg),axis=0) # concatenating row-wise\n",
        "          pca = PCA(n_components = preprocess_with_pca_dim)\n",
        "          data = pca.fit_transform(data)\n",
        "          fg = data[:n_fg,:] # first n_fg rows\n",
        "          bg = data[n_fg:,:]\n",
        "          features_d = preprocess_with_pca_dim\n",
        "\n",
        "          if (verbose):\n",
        "              print(\"Data dimensionality reduced to \"\n",
        "                  + str(preprocess_with_pca_dim)\n",
        "                  + \". Percent variation retained: ~\"\n",
        "                  + str(int(100*np.sum(pca.explained_variance_ratio_))) + '%')\n",
        "\n",
        "\n",
        "      if (verbose):\n",
        "          print(\"Data loaded and preprocessed\")\n",
        "\n",
        "      #Calculate the covariance matrices\n",
        "      bg_cov = bg.T.dot(bg)/(n_bg-1)\n",
        "      fg_cov = fg.T.dot(fg)/(n_fg-1)\n",
        "\n",
        "      if (verbose):\n",
        "          print(\"Covariance matrices computed\")\n",
        "\n",
        "      global fitted\n",
        "      fitted = True # used to signal that foreground is ready for transform\n",
        "\n"
      ],
      "metadata": {
        "id": "PtCpwAFvAAbF"
      },
      "execution_count": null,
      "outputs": []
    },
    {
      "cell_type": "code",
      "source": [
        "def generate_alphas(max_log_alpha, n_alphas):\n",
        "  return np.concatenate(([0],np.logspace(-1,max_log_alpha,n_alphas)))"
      ],
      "metadata": {
        "id": "MVUJWTXASTJA"
      },
      "execution_count": null,
      "outputs": []
    },
    {
      "cell_type": "code",
      "source": [
        "\"\"\"\n",
        "Returns active and bg dataset projected in the cpca direction, as well as the top c_cpca eigenvalues indices.\n",
        "If specified, it returns the top_cpca directions\n",
        "\"\"\"\n",
        "def cpca_alpha(dataset, alpha=1):\n",
        "  _n_components = n_components\n",
        "  sigma = fg_cov - alpha*bg_cov\n",
        "  w, v = LA.eig(sigma)\n",
        "  eig_idx = np.argpartition(w, -_n_components)[-_n_components:]\n",
        "  eig_idx = eig_idx[np.argsort(-w[eig_idx])]\n",
        "  v_top = v[:,eig_idx] # rows: datasets\n",
        "  reduced_dataset = dataset.dot(v_top) # matrix multiplication\n",
        "  if (verbose):\n",
        "    print(inspect.stack()[1].code_context, \"v_top.shape:\", v_top.shape, \"dataset.shape:\", dataset.shape, \"reduced_dataset.shape:\", reduced_dataset.shape)\n",
        "  reduced_dataset[:,0] = reduced_dataset[:,0]*np.sign(reduced_dataset[0,0])\n",
        "  reduced_dataset[:,1] = reduced_dataset[:,1]*np.sign(reduced_dataset[0,1])\n",
        "  return reduced_dataset\n",
        "\n",
        "\n",
        "\"\"\"\n",
        "This method creates the affinity matrix of subspaces returned by contrastive pca\n",
        "\"\"\"\n",
        "def create_affinity_matrix(foreeground, max_log_alpha, n_alphas):\n",
        "  from math import pi\n",
        "  alphas = generate_alphas(max_log_alpha, n_alphas)\n",
        "  if (verbose):\n",
        "    print(inspect.stack()[1].code_context, \"alphas: \", alphas)\n",
        "\n",
        "  subspaces = list()\n",
        "  k = len(alphas)\n",
        "  affinity = 0.5*np.identity(k) #it gets doubled\n",
        "  for alpha in alphas:\n",
        "    space = cpca_alpha(dataset=foreeground, alpha=alpha)\n",
        "    q, r = np.linalg.qr(space)\n",
        "    if (verbose):\n",
        "      print(inspect.stack()[1].code_context, \"alpha:\", alpha, \"q.shape:\", q.shape, \"r.shape:\", r.shape)\n",
        "    subspaces.append(q)\n",
        "  for i in range(k): # 0 -> k-1\n",
        "    for j in range(i+1,k):\n",
        "      q0 = subspaces[i]\n",
        "      q1 = subspaces[j]\n",
        "      u, s, v = np.linalg.svd(q0.T.dot(q1))\n",
        "      affinity[i,j] = s[0]*s[1]\n",
        "  affinity = affinity + affinity.T # saving the mirror image across the leading diagonal\n",
        "  global affinity_matrix\n",
        "  affinity_matrix = np.nan_to_num(affinity)\n",
        "\n",
        "\n",
        "\"\"\"\n",
        "This method performs spectral clustering on the affinity matrix of subspaces\n",
        "returned by contrastive pca, and returns (`=3) exemplar values of alpha\n",
        "\"\"\"\n",
        "def find_spectral_alphas( n_alphas, max_log_alpha, n_alphas_to_return):\n",
        "  create_affinity_matrix(fg, max_log_alpha, n_alphas)\n",
        "  affinity = affinity_matrix\n",
        "  if (verbose):\n",
        "    print(inspect.stack()[1].code_context, \"affinity.shape:\", affinity.shape)\n",
        "  spectral = cluster.SpectralClustering(n_clusters=n_alphas_to_return, affinity='precomputed')\n",
        "  alphas = generate_alphas(max_log_alpha, n_alphas)\n",
        "  spectral.fit(affinity)\n",
        "  labels = spectral.labels_\n",
        "  if (verbose):\n",
        "    print(inspect.stack()[1].code_context, \"labels.shape:\", labels.shape)\n",
        "  best_alphas = list()\n",
        "  for i in range(n_alphas_to_return):\n",
        "      idx = np.where(labels==i)[0]\n",
        "      if not(0 in idx): #because we don't want to include the cluster that includes alpha=0\n",
        "          affinity_submatrix = affinity[idx][:, idx]\n",
        "          sum_affinities = np.sum(affinity_submatrix, axis=0)\n",
        "          exemplar_idx = idx[np.argmax(sum_affinities)]\n",
        "          if (verbose):\n",
        "            print(inspect.stack()[1].code_context, \"idx:\", idx, \"idx.shape:\", idx.shape, \"sum_affinities.shape:\", sum_affinities.shape, \"affinity_submatrix.shape:\", affinity_submatrix.shape, \"exemplar_idx.shape:\", exemplar_idx.shape, \"exemplar_idx:\", exemplar_idx)\n",
        "\n",
        "          best_alphas.append(alphas[exemplar_idx])\n",
        "\n",
        "  if (verbose):\n",
        "    print(inspect.stack()[1].code_context, \"best_alphas:\", best_alphas)\n",
        "\n",
        "  return np.sort(best_alphas), alphas, affinity[0,:], labels\n",
        "\n",
        "\n",
        "\n",
        "\"\"\"\n",
        "This function performs contrastive PCA using the alpha technique on the\n",
        "active and background dataset. It automatically determines n_alphas=4 important values\n",
        "of alpha up to based to the power of 10^(max_log_alpha=5) on spectral clustering\n",
        "of the top subspaces identified by cPCA.\n",
        "The final return value is the data projected into the top (n_components = 2)\n",
        "subspaces, which can be plotted outside of this function\n",
        "\"\"\"\n",
        "def automated_cpca(dataset, n_alphas_to_return, n_alphas, max_log_alpha):\n",
        "  best_alphas, all_alphas, _, _ = find_spectral_alphas(n_alphas, max_log_alpha, n_alphas_to_return)\n",
        "  best_alphas = np.concatenate(([0], best_alphas)) #one of the alphas is always alpha=0\n",
        "  data_to_plot = []\n",
        "  for alpha in best_alphas:\n",
        "      transformed_dataset = cpca_alpha(dataset=dataset, alpha=alpha)\n",
        "      data_to_plot.append(transformed_dataset)\n",
        "  return data_to_plot, best_alphas\n",
        "\n",
        "\n",
        "\"\"\"\n",
        "This function performs contrastive PCA using the alpha technique on the\n",
        "active and background dataset. It returns the cPCA-reduced data for all values of alpha specified,\n",
        "both the active and background, as well as the list of alphas\n",
        "\"\"\"\n",
        "def all_cpca(dataset, n_alphas, max_log_alpha):\n",
        "  alphas = generate_alphas(max_log_alpha, n_alphas)\n",
        "  data_to_plot = []\n",
        "  for alpha in alphas:\n",
        "    transformed_dataset = cpca_alpha(dataset=dataset, alpha=alpha)\n",
        "    data_to_plot.append(transformed_dataset)\n",
        "  return data_to_plot, alphas"
      ],
      "metadata": {
        "id": "lkUm77hkSVEI"
      },
      "execution_count": null,
      "outputs": []
    },
    {
      "cell_type": "code",
      "source": [
        "def gui_callback(dataset, n_alphas_to_return, n_alphas, max_log_alpha):\n",
        "  try:\n",
        "      import matplotlib.pyplot as plt\n",
        "      from matplotlib.gridspec import GridSpec\n",
        "  except ImportError:\n",
        "      raise ImportError(\"Something wrong while loading matplotlib.pyplot! You probably don't have plotting libraries installed.\")\n",
        "  try:\n",
        "      from ipywidgets import widgets, interact, Layout\n",
        "      from IPython.display import display\n",
        "  except ImportError:\n",
        "      raise ImportError(\"To use the GUI, you must be running this code in a jupyter notebook that supports ipywidgets\")\n",
        "\n",
        "  transformed_data_auto, alphas_auto = automated_cpca(dataset, n_alphas_to_return, n_alphas, max_log_alpha)\n",
        "  transformed_data_manual, alphas_manual = all_cpca(dataset, n_alphas, max_log_alpha)\n",
        "  if (n_fg>1000):\n",
        "      print(\"The GUI may be slow to respond with large numbers of data points. Consider using a subset of the original data.\")\n",
        "\n",
        "  \"\"\"\n",
        "  Handles the plotting\n",
        "  \"\"\"\n",
        "  def graph_foreground(ax,fg, active_labels, alpha):\n",
        "      for i, l in enumerate(np.sort(np.unique(active_labels))):\n",
        "          ax.scatter(fg[np.where(active_labels==l),0],fg[np.where(active_labels==l),1], color=colors[i%len(colors)], alpha=0.6)\n",
        "      if (alpha==0):\n",
        "          ax.annotate(r'$\\alpha$='+str(np.round(alpha,2))+\" (PCA)\", (0.05,0.05), xycoords='axes fraction')\n",
        "      else:\n",
        "          ax.annotate(r'$\\alpha$='+str(np.round(alpha,2)), (0.05,0.05), xycoords='axes fraction')\n",
        "\n",
        "\n",
        "  \"\"\"\n",
        "  This code gets run whenever the widget slider is moved\n",
        "  \"\"\"\n",
        "  def update(value):\n",
        "      fig = plt.figure(figsize=[10,4])\n",
        "      gs=GridSpec(2,4)\n",
        "\n",
        "      for i in range(4):\n",
        "          ax1=fig.add_subplot(gs[int(i//2),i%2]) # First row, first column\n",
        "          fg = transformed_data_auto[i]\n",
        "          graph_foreground(ax1, fg, active_labels, alphas_auto[i])\n",
        "\n",
        "          ax5=fig.add_subplot(gs[:,2:]) # Second row, span all columns\n",
        "\n",
        "          alpha_idx = np.abs(alphas_manual-10**value).argmin()\n",
        "          fg = transformed_data_manual[alpha_idx]\n",
        "          graph_foreground(ax5, fg, active_labels, alphas_manual[alpha_idx])\n",
        "\n",
        "      #if len(np.unique(self.active_labels))>1:\n",
        "          #plt.legend()\n",
        "\n",
        "      plt.tight_layout()\n",
        "      plt.show()\n",
        "\n",
        "  widg = interact(update, value=widgets.FloatSlider(description=r'\\(\\log_{10}{\\alpha} \\)', min=-1, max=3, step=4/40, continuous_update=False, layout=Layout(width='80%')))\n",
        "\n",
        "  return\n",
        ""
      ],
      "metadata": {
        "id": "K9nYcirONkp3"
      },
      "execution_count": null,
      "outputs": []
    },
    {
      "cell_type": "code",
      "source": [
        "def plot_callback(alpha_selection, dataset, n_alphas_to_return, n_alphas, max_log_alpha, alpha_value):\n",
        "  try:\n",
        "    import matplotlib.pyplot as plt\n",
        "  except ImportError:\n",
        "    raise ImportError(\"Something wrong while loading matplotlib.pyplot! You probably don't have plotting libraries installed.\")\n",
        "  if (alpha_selection=='auto'):\n",
        "    transformed_data, best_alphas = automated_cpca(dataset, n_alphas_to_return, n_alphas, max_log_alpha)\n",
        "    plt.figure(figsize=[14,3])\n",
        "    for j, fg in enumerate(transformed_data):\n",
        "        plt.subplot(1,4,j+1)\n",
        "        for i, l in enumerate(np.sort(np.unique(active_labels))):\n",
        "            idx = np.where(active_labels==l)\n",
        "            plt.scatter(fg[idx,0],fg[idx,1], color=colors[i%len(colors)], alpha=0.6, label='Class '+str(i))\n",
        "        plt.title('Alpha='+str(np.round(best_alphas[j],2)))\n",
        "    if len(np.unique(active_labels))>1:\n",
        "        plt.legend()\n",
        "    plt.show()\n",
        "  elif (alpha_selection=='manual'):\n",
        "    fg = cpca_alpha(dataset, alpha_value)\n",
        "    plt.figure(figsize=[6,6])\n",
        "    for i, l in enumerate(np.sort(np.unique(active_labels))):\n",
        "        idx = np.where(active_labels==l)\n",
        "        plt.scatter(fg[idx,0],fg[idx,1], color=colors[i%len(colors)], alpha=0.6, label='Class '+str(i))\n",
        "    plt.title('Alpha=' + str(alpha_value))\n",
        "    plt.legend()\n",
        "    plt.show()\n",
        "\n",
        "  return"
      ],
      "metadata": {
        "id": "kYcZxCdTN09n"
      },
      "execution_count": null,
      "outputs": []
    },
    {
      "cell_type": "code",
      "source": [
        "\n",
        "def transform(\n",
        "    dataset,\n",
        "    alpha_selection='auto',\n",
        "    n_alphas=40,\n",
        "    max_log_alpha=3,\n",
        "    n_alphas_to_return=4,\n",
        "    plot_callback = None,\n",
        "    gui_callback = None,\n",
        "    _active_labels = None,\n",
        "    _colors=None,\n",
        "    legend=None,\n",
        "    alpha_value=None,\n",
        "    return_alphas=False):\n",
        "\n",
        "  # validations\n",
        "  if (fitted==False):\n",
        "      raise ValueError(\"This model has not been fit to a foreground/background dataset yet. Please run the fit() or fit_transform() functions first.\")\n",
        "  if not(alpha_selection=='auto' or alpha_selection=='manual' or alpha_selection=='all'):\n",
        "      raise ValueError(\"Invalid argument for parameter alpha_selection: must be 'auto' or 'manual' or 'all'\")\n",
        "  if (alpha_selection=='all' and plot_callback==True):\n",
        "      raise ValueError('The plot_callback cannot be used if alpha_selection is set to \"all\"')\n",
        "  if ((alpha_selection=='all' or alpha_selection=='manual') and gui_callback==True):\n",
        "      raise ValueError('The gui_callback cannot be used if alpha_selection is set to \"all\" or \"manual\"')\n",
        "  if ((gui_callback==True or plot_callback==True) and not(n_components==2)):\n",
        "      raise ValueError('The gui and plot callbacks cannot be used if the number of components is not 2')\n",
        "  if (not(alpha_value) and alpha_selection=='manual'):\n",
        "      raise ValueError('The the alpha_selection parameter is set to \"manual\", the alpha_value parameter must be provided')\n",
        "\n",
        "  # we can't be plot or gui with non-2 components\n",
        "  # Handle the plotting variables\n",
        "\n",
        "  if (plot_callback or gui_callback):\n",
        "    if _active_labels is None:\n",
        "      _active_labels = np.ones(dataset.shape[0])\n",
        "    global active_labels, colors\n",
        "    active_labels = _active_labels\n",
        "    if _colors is None:\n",
        "      _colors = ['k','r','b','g','c']\n",
        "\n",
        "    colors = _colors\n",
        "\n",
        "    if gui_callback:\n",
        "      gui_callback(dataset, n_alphas_to_return, n_alphas, max_log_alpha)\n",
        "    elif plot_callback:\n",
        "      plot_callback(alpha_selection, dataset, n_alphas_to_return, n_alphas, max_log_alpha, alpha_value)\n",
        "\n",
        "  else:\n",
        "    if (alpha_selection=='auto'):\n",
        "      transformed_data, best_alphas = automated_cpca(dataset, n_alphas_to_return, n_alphas, max_log_alpha)\n",
        "      alpha_values = best_alphas\n",
        "    elif (alpha_selection=='all'):\n",
        "      transformed_data, all_alphas = all_cpca(dataset, n_alphas, max_log_alpha)\n",
        "      alpha_values = all_alphas\n",
        "    else:\n",
        "      transformed_data = cpca_alpha(dataset, alpha_value)\n",
        "      alpha_values = alpha_value\n",
        "\n",
        "    if return_alphas:\n",
        "        return transformed_data, alpha_values\n",
        "    else:\n",
        "        return transformed_data\n"
      ],
      "metadata": {
        "id": "Ut-ECsIFM0Jy"
      },
      "execution_count": null,
      "outputs": []
    },
    {
      "cell_type": "code",
      "source": [
        "\"\"\"\n",
        "  Finds the covariance matrices of the foreground and background datasets,\n",
        "  and then transforms the foreground dataset based on the principal contrastive components\n",
        "  Parameters: see fit() and transform() for parameter description\n",
        "\"\"\"\n",
        "def fit_transform(\n",
        "    foreground,\n",
        "    background,\n",
        "    plot=None,\n",
        "    gui=None,\n",
        "    alpha_selection='auto',\n",
        "    n_alphas=40,\n",
        "     max_log_alpha=3,\n",
        "    n_alphas_to_return=4,\n",
        "    active_labels = None,\n",
        "    colors=None,\n",
        "    legend=None,\n",
        "    alpha_value=None,\n",
        "    return_alphas=False):\n",
        "\n",
        "  fit(foreground, background)\n",
        "\n",
        "  return transform(\n",
        "      dataset=fg,\n",
        "      alpha_selection=alpha_selection,\n",
        "      n_alphas=n_alphas,\n",
        "      max_log_alpha=max_log_alpha,\n",
        "      n_alphas_to_return=n_alphas_to_return,\n",
        "      plot_callback=plot,\n",
        "      gui_callback=gui,\n",
        "      _active_labels=active_labels,\n",
        "      _colors=colors,\n",
        "      legend=legend,\n",
        "      alpha_value=alpha_value,\n",
        "      return_alphas=return_alphas)"
      ],
      "metadata": {
        "id": "zNkUYNENALTU"
      },
      "execution_count": null,
      "outputs": []
    },
    {
      "cell_type": "markdown",
      "source": [
        "## Synthetic Dataset\n",
        "\n",
        "Create a synthetic dataset consisting on 3 features\n",
        "The Foreground and Background have similarities with 2 of the features while varying on the third feature."
      ],
      "metadata": {
        "id": "NzFCA-PXsiI8"
      }
    },
    {
      "cell_type": "code",
      "source": [
        "N = 400; D = 1000; gap=3\n",
        "# In B, all the data pts are from the same distribution, which has different variances in three subspaces.\n",
        "B = np.zeros((N, D))\n",
        "B[:,0:10] = np.random.normal(0,10,(N,10))\n",
        "B[:,10:20] = np.random.normal(0,3,(N,10))\n",
        "B[:,20:30] = np.random.normal(0,1,(N,10))\n",
        "\n",
        "\n",
        "# In A there are four clusters.\n",
        "A = np.zeros((N, D))\n",
        "A[:,0:10] = np.random.normal(0,10,(N,10))\n",
        "A[:,10:20] = np.random.normal(0,3,(N,10))\n",
        "# group 1\n",
        "A[0:200, 20:30] = np.random.normal(0,1,(200,10))\n",
        "# group 2\n",
        "A[200:400, 20:30] = np.random.normal(gap,1,(200,10))\n",
        "A_labels = [0]*200+[1]*200\n",
        "\n",
        "print(A.shape)\n",
        "print(B.shape)"
      ],
      "metadata": {
        "colab": {
          "base_uri": "https://localhost:8080/"
        },
        "id": "oDaAu2e9Ky2W",
        "outputId": "7b124e64-5e9a-4439-c156-9b8602a87734"
      },
      "execution_count": null,
      "outputs": [
        {
          "output_type": "stream",
          "name": "stdout",
          "text": [
            "(400, 1000)\n",
            "(400, 1000)\n"
          ]
        }
      ]
    },
    {
      "cell_type": "markdown",
      "source": [
        "## Applying Contrastice PCA on synthetic dataset"
      ],
      "metadata": {
        "id": "sUvt-CXotC91"
      }
    },
    {
      "cell_type": "code",
      "source": [
        "\n",
        "fit_transform(A, B, plot=plot_callback, active_labels=A_labels)\n",
        "# fit_transform(A, B, plot=None, active_labels=A_labels)\n"
      ],
      "metadata": {
        "colab": {
          "base_uri": "https://localhost:8080/",
          "height": 279
        },
        "id": "XAv3cxZescSS",
        "outputId": "b7cb69e1-5325-4cd5-aef5-2115c9038f43"
      },
      "execution_count": null,
      "outputs": [
        {
          "output_type": "stream",
          "name": "stdout",
          "text": [
            "foreground.shape: (400, 1000) n_fg: 400 features_d: 1000\n"
          ]
        },
        {
          "output_type": "stream",
          "name": "stderr",
          "text": [
            "<ipython-input-7-e48a98acd547>:2: RuntimeWarning: invalid value encountered in true_divide\n",
            "  standardized_array =  (array-np.mean(array,axis=0)) / np.std(array,axis=0)\n"
          ]
        },
        {
          "output_type": "display_data",
          "data": {
            "text/plain": [
              "<Figure size 1008x216 with 4 Axes>"
            ],
            "image/png": "[encoded data removed]"
          },
          "metadata": {
            "needs_background": "light"
          }
        }
      ]
    },
    {
      "cell_type": "markdown",
      "source": [
        "## Applying PCA on synthetic dataset for comparison\n",
        "\n",
        "In the scatter plot showing the dataset transformed by PCA, we can see that the two clusters are mixed together since there is overlap in 2 of the 3 features of the clusters and PCA's principal components preferred the directions of the 2 common features of the clusters.\n",
        "\n",
        "Constrastive PCA is helpful in this situation since the common features are removed with the help of a background dataset."
      ],
      "metadata": {
        "id": "esabafuHtPSl"
      }
    },
    {
      "cell_type": "code",
      "source": [
        "from sklearn.decomposition import PCA\n",
        "\n",
        "pca = PCA(n_components=2)\n",
        "\n",
        "X_pca = A\n",
        "X_new = pca.fit_transform(X_pca)\n"
      ],
      "metadata": {
        "id": "QNVx2FOjtXia"
      },
      "execution_count": null,
      "outputs": []
    },
    {
      "cell_type": "code",
      "source": [
        "import matplotlib.pyplot as plt\n",
        "\n",
        "plt.scatter(X_new[:, 0], X_new[:, 1], c = A_labels)\n",
        "\n",
        "plt.title('PCA on Foreground Dataset')\n",
        "plt.legend()\n",
        "\n",
        "plt.show()"
      ],
      "metadata": {
        "colab": {
          "base_uri": "https://localhost:8080/",
          "height": 298
        },
        "id": "nfIuPvajyDpW",
        "outputId": "738255d6-499c-4ed2-e29a-da6c25b2d7a7"
      },
      "execution_count": null,
      "outputs": [
        {
          "output_type": "stream",
          "name": "stderr",
          "text": [
            "WARNING:matplotlib.legend:No artists with labels found to put in legend.  Note that artists whose label start with an underscore are ignored when legend() is called with no argument.\n"
          ]
        },
        {
          "output_type": "display_data",
          "data": {
            "text/plain": [
              "<Figure size 432x288 with 1 Axes>"
            ],
            "image/png": "[encoded data removed]"
          },
          "metadata": {
            "needs_background": "light"
          }
        }
      ]
    },
    {
      "cell_type": "markdown",
      "source": [
        "# 5. Systems"
      ],
      "metadata": {
        "id": "dlqmZS5Hy6q-"
      }
    },
    {
      "cell_type": "markdown",
      "source": [
        "**Inference on the edge**: Measure the inference times in various computationally-constrained settings\n",
        "\n",
        "* Pick a few different speech detection models (we suggest looking at models  on the [Hugging Face Hub](https://huggingface.co/models?pipeline_tag=automatic-speech-recognition&sort=downloads))\n",
        "* Simulate different memory constraints and CPU allocations that are realistic for edge devices that might run such models, such as smart speakers or microcontrollers, and measure what is the average inference time of the models under these conditions\n",
        "* How does the inference time vary with (1) choice of model (2) available system memory (3) available CPU (4) size of input?\n",
        "\n",
        "Are there any surprising discoveries? (Note that this coding challenge is fairly open-ended, so we will be considering the amount of effort invested in discovering something interesting here)."
      ],
      "metadata": {
        "id": "QW_eiDFw1QKm"
      }
    },
    {
      "cell_type": "code",
      "source": [
        "### WRITE YOUR CODE HERE"
      ],
      "metadata": {
        "id": "OYp94wLP1kWJ"
      },
      "execution_count": null,
      "outputs": []
    },
    {
      "cell_type": "markdown",
      "source": [
        "**Write up**: What surprising discoveries do you see?\n",
        "\n",
        "[Please put your write up here]"
      ],
      "metadata": {
        "id": "yoHmutWx2jer"
      }
    }
  ]
}